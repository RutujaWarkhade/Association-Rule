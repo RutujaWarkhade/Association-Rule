{
 "cells": [
  {
   "cell_type": "code",
   "execution_count": 1,
   "id": "fb540583-12ac-49a3-bd25-21d14949cec4",
   "metadata": {},
   "outputs": [],
   "source": [
    "import pandas as pd \n",
    "import numpy as np \n",
    "\n",
    "import matplotlib.pyplot as plt  \n",
    "import seaborn as sns \n",
    "\n",
    "import pandas as pd \n",
    "from mlxtend.frequent_patterns  import apriori,association_rules \n",
    "from mlxtend.preprocessing import TransactionEncoder "
   ]
  },
  {
   "cell_type": "code",
   "execution_count": 2,
   "id": "4fa207c7-8f9b-4c2d-8a98-48a297f545df",
   "metadata": {},
   "outputs": [],
   "source": [
    "df= pd.read_csv(\"C:/Assignments(DS)/transactions_retail.csv\")"
   ]
  },
  {
   "cell_type": "code",
   "execution_count": 3,
   "id": "32eba553-e9cb-405a-856d-0d7740d2513a",
   "metadata": {},
   "outputs": [
    {
     "data": {
      "text/html": [
       "<div>\n",
       "<style scoped>\n",
       "    .dataframe tbody tr th:only-of-type {\n",
       "        vertical-align: middle;\n",
       "    }\n",
       "\n",
       "    .dataframe tbody tr th {\n",
       "        vertical-align: top;\n",
       "    }\n",
       "\n",
       "    .dataframe thead th {\n",
       "        text-align: right;\n",
       "    }\n",
       "</style>\n",
       "<table border=\"1\" class=\"dataframe\">\n",
       "  <thead>\n",
       "    <tr style=\"text-align: right;\">\n",
       "      <th></th>\n",
       "      <th>'HANGING'</th>\n",
       "      <th>'HEART'</th>\n",
       "      <th>'HOLDER'</th>\n",
       "      <th>'T-LIGHT'</th>\n",
       "      <th>'WHITE'</th>\n",
       "      <th>NA</th>\n",
       "    </tr>\n",
       "  </thead>\n",
       "  <tbody>\n",
       "    <tr>\n",
       "      <th>329573</th>\n",
       "      <td>'4'</td>\n",
       "      <td>'MAGNETS'</td>\n",
       "      <td>'OF'</td>\n",
       "      <td>'PACK'</td>\n",
       "      <td>'PHOTO'</td>\n",
       "      <td>'RETRO'</td>\n",
       "    </tr>\n",
       "    <tr>\n",
       "      <th>469515</th>\n",
       "      <td>'AND'</td>\n",
       "      <td>'BOTTLE'</td>\n",
       "      <td>'HOT'</td>\n",
       "      <td>'SYMPATHY'</td>\n",
       "      <td>'TEA'</td>\n",
       "      <td>'WATER'</td>\n",
       "    </tr>\n",
       "    <tr>\n",
       "      <th>517593</th>\n",
       "      <td>'DOORMAT'</td>\n",
       "      <td>'TOPIARY'</td>\n",
       "      <td>NaN</td>\n",
       "      <td>NaN</td>\n",
       "      <td>NaN</td>\n",
       "      <td>NaN</td>\n",
       "    </tr>\n",
       "  </tbody>\n",
       "</table>\n",
       "</div>"
      ],
      "text/plain": [
       "        'HANGING'    'HEART' 'HOLDER'   'T-LIGHT'  'WHITE'       NA\n",
       "329573        '4'  'MAGNETS'     'OF'      'PACK'  'PHOTO'  'RETRO'\n",
       "469515      'AND'   'BOTTLE'    'HOT'  'SYMPATHY'    'TEA'  'WATER'\n",
       "517593  'DOORMAT'  'TOPIARY'      NaN         NaN      NaN      NaN"
      ]
     },
     "execution_count": 3,
     "metadata": {},
     "output_type": "execute_result"
    }
   ],
   "source": [
    "df.sample(3)"
   ]
  },
  {
   "cell_type": "code",
   "execution_count": 4,
   "id": "88457471-04ac-4da9-9e47-380a7a17dab0",
   "metadata": {},
   "outputs": [
    {
     "name": "stdout",
     "output_type": "stream",
     "text": [
      "Empty DataFrame\n",
      "Columns: [support, itemsets]\n",
      "Index: []\n"
     ]
    }
   ],
   "source": [
    "#step 1:covert the dataset into a format suitable for Aprioriabs\n",
    "Ste=TransactionEncoder()\n",
    "k=Ste.fit_transform(df)\n",
    "\n",
    "df1=pd.DataFrame(k,columns=Ste.columns_)\n",
    "\n",
    "#step 2:Apply the Apriori algo \n",
    "frequent=apriori(df1,min_support=0.005,use_colnames=True)\n",
    "print(frequent)\n",
    "# rule=association_rules(frequent,metric='lift',min_threshold=1)"
   ]
  },
  {
   "cell_type": "code",
   "execution_count": 5,
   "id": "5602ef8d-0d35-4df3-b79b-f85eca05e5c6",
   "metadata": {},
   "outputs": [
    {
     "data": {
      "text/plain": [
       "(557040, 6)"
      ]
     },
     "execution_count": 5,
     "metadata": {},
     "output_type": "execute_result"
    }
   ],
   "source": [
    "df.shape"
   ]
  },
  {
   "cell_type": "code",
   "execution_count": 6,
   "id": "dce175fe-91fd-48c5-9060-68136b15612a",
   "metadata": {},
   "outputs": [
    {
     "name": "stdout",
     "output_type": "stream",
     "text": [
      "min_support=0.05, number of frequent itemsets: 0\n",
      "min_support=0.04, number of frequent itemsets: 0\n",
      "min_support=0.03, number of frequent itemsets: 0\n",
      "min_support=0.02, number of frequent itemsets: 0\n",
      "min_support=0.01, number of frequent itemsets: 0\n"
     ]
    }
   ],
   "source": [
    "for support in [0.05, 0.04, 0.03, 0.02, 0.01]:\n",
    "    frequent = apriori(df1, min_support=support, use_colnames=True)\n",
    "    print(f\"min_support={support}, number of frequent itemsets: {len(frequent)}\")"
   ]
  },
  {
   "cell_type": "code",
   "execution_count": 7,
   "id": "b5da72ab-2076-45a0-972c-24b39d41d229",
   "metadata": {},
   "outputs": [
    {
     "data": {
      "text/plain": [
       "(557040, 14)"
      ]
     },
     "execution_count": 7,
     "metadata": {},
     "output_type": "execute_result"
    }
   ],
   "source": [
    "df1.shape"
   ]
  },
  {
   "cell_type": "code",
   "execution_count": 8,
   "id": "8e87e74f-b1ae-45bb-89ee-2bb0b75d5c7a",
   "metadata": {},
   "outputs": [
    {
     "name": "stdout",
     "output_type": "stream",
     "text": [
      "Item Frequencies:\n",
      " '    5\n",
      "H    5\n",
      "A    3\n",
      "E    3\n",
      "I    3\n",
      "T    3\n",
      "G    2\n",
      "L    2\n",
      "N    2\n",
      "R    2\n",
      "-    1\n",
      "D    1\n",
      "O    1\n",
      "W    1\n",
      "dtype: int64\n"
     ]
    },
    {
     "data": {
      "image/png": "[encoded data removed]",
      "text/plain": [
       "<Figure size 1200x600 with 1 Axes>"
      ]
     },
     "metadata": {},
     "output_type": "display_data"
    }
   ],
   "source": [
    "import matplotlib.pyplot as plt\n",
    "import seaborn as sns\n",
    "\n",
    "item_frequencies = df1.sum().sort_values(ascending=False)\n",
    "print(\"Item Frequencies:\\n\", item_frequencies)\n",
    "plt.figure(figsize=(12, 6))\n",
    "sns.barplot(x=item_frequencies.index, y=item_frequencies.values)\n",
    "plt.xticks(rotation=45)\n",
    "plt.xlabel('Items')\n",
    "plt.ylabel('Frequency')\n",
    "plt.title('Item Frequencies')\n",
    "plt.show()"
   ]
  },
  {
   "cell_type": "markdown",
   "id": "49ece7fb-b264-4bfd-b602-ecd1f11c6ad4",
   "metadata": {},
   "source": [
    "conclusion:\n",
    "The conclusion for this analysis is that using association rule mining, like FP-Growth, allows the retail store to identify\n",
    "frequently bought-together products. These insights can guide product placement on shelves, cross-promotions, and personalized\n",
    "recommendations, ultimately improving customer buying patterns and increasing store sales."
   ]
  },
  {
   "cell_type": "code",
   "execution_count": null,
   "id": "5e1c0bb0-9505-4263-a9ed-f7e3eabe653b",
   "metadata": {},
   "outputs": [],
   "source": []
  }
 ],
 "metadata": {
  "kernelspec": {
   "display_name": "Python 3 (ipykernel)",
   "language": "python",
   "name": "python3"
  },
  "language_info": {
   "codemirror_mode": {
    "name": "ipython",
    "version": 3
   },
   "file_extension": ".py",
   "mimetype": "text/x-python",
   "name": "python",
   "nbconvert_exporter": "python",
   "pygments_lexer": "ipython3",
   "version": "3.11.7"
  }
 },
 "nbformat": 4,
 "nbformat_minor": 5
}
