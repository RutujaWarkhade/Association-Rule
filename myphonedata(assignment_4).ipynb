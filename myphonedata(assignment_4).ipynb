{
 "cells": [
  {
   "cell_type": "markdown",
   "id": "29f3bde8-d3e8-440c-8f44-f6a2c8f516ad",
   "metadata": {},
   "source": [
    "Problem Statement: - \n",
    "\n",
    "A Mobile Phone manufacturing company wants to launch its three brand new phone into the market, but before going with its traditional\n",
    "marketing approach this time it want to analyze the data of its previous model sales in different regions and you have been hired as an\n",
    "Data Scientist to help them out, use the Association rules concept and provide your insights to the company’s marketing team to improve its sales.\n"
   ]
  },
  {
   "cell_type": "markdown",
   "id": "6ee686db-de8e-4d9c-b663-f6ec2f07a4a2",
   "metadata": {},
   "source": [
    "Business Objective:-\n",
    "\n",
    "1)Determin which products features, pricing strategies have previosly led to higher sales.\n",
    "2)Help to marketing team to develop  a more effective products base on past history.\n",
    "3)Recommend a complementry product based on past patterns of customers purchses."
   ]
  },
  {
   "cell_type": "code",
   "execution_count": 2,
   "id": "cdab8912-378d-444f-99bc-70dbe75087e1",
   "metadata": {},
   "outputs": [],
   "source": [
    "#import necessary libraries\n",
    "import pandas as pd\n",
    "import numpy as np\n",
    "import matplotlib.pyplot as plt\n",
    "import seaborn as sns\n",
    "from mlxtend.frequent_patterns import apriori,association_rules\n",
    "from mlxtend.preprocessing import TransactionEncoder"
   ]
  },
  {
   "cell_type": "code",
   "execution_count": 3,
   "id": "515af844-b83e-4a5e-add4-d56f9df12f20",
   "metadata": {},
   "outputs": [],
   "source": [
    "#Uplaod file\n",
    "phone = pd.read_csv(\"C:/Assignments(DS)/myphonedata.csv\")"
   ]
  },
  {
   "cell_type": "markdown",
   "id": "100b2fed-9520-4ecc-8d66-2d074206ace7",
   "metadata": {},
   "source": [
    "Exploratory Data Analysis (EDA)"
   ]
  },
  {
   "cell_type": "code",
   "execution_count": 4,
   "id": "0d42e7ec-504d-4e8f-a0db-30a4de107e96",
   "metadata": {},
   "outputs": [
    {
     "data": {
      "text/plain": [
       "(11, 6)"
      ]
     },
     "execution_count": 4,
     "metadata": {},
     "output_type": "execute_result"
    }
   ],
   "source": [
    "phone.shape\n",
    "#11 rows and 6 columns"
   ]
  },
  {
   "cell_type": "code",
   "execution_count": 5,
   "id": "a812fec0-0637-4d70-b8a4-a0882c3b0b38",
   "metadata": {},
   "outputs": [
    {
     "data": {
      "text/plain": [
       "Index(['red', 'white', 'green', 'yellow', 'orange', 'blue'], dtype='object')"
      ]
     },
     "execution_count": 5,
     "metadata": {},
     "output_type": "execute_result"
    }
   ],
   "source": [
    "phone.columns"
   ]
  },
  {
   "cell_type": "code",
   "execution_count": 6,
   "id": "e6619cb0-5a76-4fe2-9779-85317a6a570a",
   "metadata": {},
   "outputs": [
    {
     "data": {
      "text/plain": [
       "red       int64\n",
       "white     int64\n",
       "green     int64\n",
       "yellow    int64\n",
       "orange    int64\n",
       "blue      int64\n",
       "dtype: object"
      ]
     },
     "execution_count": 6,
     "metadata": {},
     "output_type": "execute_result"
    }
   ],
   "source": [
    "phone.dtypes"
   ]
  },
  {
   "cell_type": "code",
   "execution_count": 7,
   "id": "1eb7229b-3f18-4c5c-a08b-1541c6918654",
   "metadata": {},
   "outputs": [
    {
     "data": {
      "text/plain": [
       "red       0\n",
       "white     0\n",
       "green     0\n",
       "yellow    0\n",
       "orange    0\n",
       "blue      0\n",
       "dtype: int64"
      ]
     },
     "execution_count": 7,
     "metadata": {},
     "output_type": "execute_result"
    }
   ],
   "source": [
    "phone.isnull().sum()\n",
    "#no any null value"
   ]
  },
  {
   "cell_type": "code",
   "execution_count": 8,
   "id": "a75a5d74-3acb-4a60-af0b-1259b508d8c4",
   "metadata": {},
   "outputs": [
    {
     "data": {
      "text/html": [
       "<div>\n",
       "<style scoped>\n",
       "    .dataframe tbody tr th:only-of-type {\n",
       "        vertical-align: middle;\n",
       "    }\n",
       "\n",
       "    .dataframe tbody tr th {\n",
       "        vertical-align: top;\n",
       "    }\n",
       "\n",
       "    .dataframe thead th {\n",
       "        text-align: right;\n",
       "    }\n",
       "</style>\n",
       "<table border=\"1\" class=\"dataframe\">\n",
       "  <thead>\n",
       "    <tr style=\"text-align: right;\">\n",
       "      <th></th>\n",
       "      <th>red</th>\n",
       "      <th>white</th>\n",
       "      <th>green</th>\n",
       "      <th>yellow</th>\n",
       "      <th>orange</th>\n",
       "      <th>blue</th>\n",
       "    </tr>\n",
       "  </thead>\n",
       "  <tbody>\n",
       "    <tr>\n",
       "      <th>count</th>\n",
       "      <td>11.000000</td>\n",
       "      <td>11.000000</td>\n",
       "      <td>11.000000</td>\n",
       "      <td>11.000000</td>\n",
       "      <td>11.000000</td>\n",
       "      <td>11.000000</td>\n",
       "    </tr>\n",
       "    <tr>\n",
       "      <th>mean</th>\n",
       "      <td>0.545455</td>\n",
       "      <td>0.636364</td>\n",
       "      <td>0.181818</td>\n",
       "      <td>0.090909</td>\n",
       "      <td>0.181818</td>\n",
       "      <td>0.545455</td>\n",
       "    </tr>\n",
       "    <tr>\n",
       "      <th>std</th>\n",
       "      <td>0.522233</td>\n",
       "      <td>0.504525</td>\n",
       "      <td>0.404520</td>\n",
       "      <td>0.301511</td>\n",
       "      <td>0.404520</td>\n",
       "      <td>0.522233</td>\n",
       "    </tr>\n",
       "    <tr>\n",
       "      <th>min</th>\n",
       "      <td>0.000000</td>\n",
       "      <td>0.000000</td>\n",
       "      <td>0.000000</td>\n",
       "      <td>0.000000</td>\n",
       "      <td>0.000000</td>\n",
       "      <td>0.000000</td>\n",
       "    </tr>\n",
       "    <tr>\n",
       "      <th>25%</th>\n",
       "      <td>0.000000</td>\n",
       "      <td>0.000000</td>\n",
       "      <td>0.000000</td>\n",
       "      <td>0.000000</td>\n",
       "      <td>0.000000</td>\n",
       "      <td>0.000000</td>\n",
       "    </tr>\n",
       "    <tr>\n",
       "      <th>50%</th>\n",
       "      <td>1.000000</td>\n",
       "      <td>1.000000</td>\n",
       "      <td>0.000000</td>\n",
       "      <td>0.000000</td>\n",
       "      <td>0.000000</td>\n",
       "      <td>1.000000</td>\n",
       "    </tr>\n",
       "    <tr>\n",
       "      <th>75%</th>\n",
       "      <td>1.000000</td>\n",
       "      <td>1.000000</td>\n",
       "      <td>0.000000</td>\n",
       "      <td>0.000000</td>\n",
       "      <td>0.000000</td>\n",
       "      <td>1.000000</td>\n",
       "    </tr>\n",
       "    <tr>\n",
       "      <th>max</th>\n",
       "      <td>1.000000</td>\n",
       "      <td>1.000000</td>\n",
       "      <td>1.000000</td>\n",
       "      <td>1.000000</td>\n",
       "      <td>1.000000</td>\n",
       "      <td>1.000000</td>\n",
       "    </tr>\n",
       "  </tbody>\n",
       "</table>\n",
       "</div>"
      ],
      "text/plain": [
       "             red      white      green     yellow     orange       blue\n",
       "count  11.000000  11.000000  11.000000  11.000000  11.000000  11.000000\n",
       "mean    0.545455   0.636364   0.181818   0.090909   0.181818   0.545455\n",
       "std     0.522233   0.504525   0.404520   0.301511   0.404520   0.522233\n",
       "min     0.000000   0.000000   0.000000   0.000000   0.000000   0.000000\n",
       "25%     0.000000   0.000000   0.000000   0.000000   0.000000   0.000000\n",
       "50%     1.000000   1.000000   0.000000   0.000000   0.000000   1.000000\n",
       "75%     1.000000   1.000000   0.000000   0.000000   0.000000   1.000000\n",
       "max     1.000000   1.000000   1.000000   1.000000   1.000000   1.000000"
      ]
     },
     "execution_count": 8,
     "metadata": {},
     "output_type": "execute_result"
    }
   ],
   "source": [
    "phone.describe()\n",
    "#there is no any large difference between min, max, std. hence no need of normalization."
   ]
  },
  {
   "cell_type": "code",
   "execution_count": 9,
   "id": "628b08c9-7426-4115-813f-a8f71779c78c",
   "metadata": {},
   "outputs": [
    {
     "data": {
      "text/html": [
       "<div>\n",
       "<style scoped>\n",
       "    .dataframe tbody tr th:only-of-type {\n",
       "        vertical-align: middle;\n",
       "    }\n",
       "\n",
       "    .dataframe tbody tr th {\n",
       "        vertical-align: top;\n",
       "    }\n",
       "\n",
       "    .dataframe thead th {\n",
       "        text-align: right;\n",
       "    }\n",
       "</style>\n",
       "<table border=\"1\" class=\"dataframe\">\n",
       "  <thead>\n",
       "    <tr style=\"text-align: right;\">\n",
       "      <th></th>\n",
       "      <th>red</th>\n",
       "      <th>white</th>\n",
       "      <th>green</th>\n",
       "      <th>yellow</th>\n",
       "      <th>orange</th>\n",
       "      <th>blue</th>\n",
       "    </tr>\n",
       "  </thead>\n",
       "  <tbody>\n",
       "    <tr>\n",
       "      <th>0</th>\n",
       "      <td>1</td>\n",
       "      <td>1</td>\n",
       "      <td>1</td>\n",
       "      <td>0</td>\n",
       "      <td>0</td>\n",
       "      <td>0</td>\n",
       "    </tr>\n",
       "    <tr>\n",
       "      <th>1</th>\n",
       "      <td>0</td>\n",
       "      <td>1</td>\n",
       "      <td>0</td>\n",
       "      <td>0</td>\n",
       "      <td>1</td>\n",
       "      <td>0</td>\n",
       "    </tr>\n",
       "    <tr>\n",
       "      <th>2</th>\n",
       "      <td>0</td>\n",
       "      <td>1</td>\n",
       "      <td>0</td>\n",
       "      <td>0</td>\n",
       "      <td>0</td>\n",
       "      <td>1</td>\n",
       "    </tr>\n",
       "    <tr>\n",
       "      <th>3</th>\n",
       "      <td>1</td>\n",
       "      <td>1</td>\n",
       "      <td>0</td>\n",
       "      <td>0</td>\n",
       "      <td>1</td>\n",
       "      <td>0</td>\n",
       "    </tr>\n",
       "    <tr>\n",
       "      <th>4</th>\n",
       "      <td>1</td>\n",
       "      <td>0</td>\n",
       "      <td>0</td>\n",
       "      <td>0</td>\n",
       "      <td>0</td>\n",
       "      <td>1</td>\n",
       "    </tr>\n",
       "  </tbody>\n",
       "</table>\n",
       "</div>"
      ],
      "text/plain": [
       "   red  white  green  yellow  orange  blue\n",
       "0    1      1      1       0       0     0\n",
       "1    0      1      0       0       1     0\n",
       "2    0      1      0       0       0     1\n",
       "3    1      1      0       0       1     0\n",
       "4    1      0      0       0       0     1"
      ]
     },
     "execution_count": 9,
     "metadata": {},
     "output_type": "execute_result"
    }
   ],
   "source": [
    "phone.head()"
   ]
  },
  {
   "cell_type": "markdown",
   "id": "19dd5ce5-aa2b-4279-a501-a2d7e7922b39",
   "metadata": {},
   "source": [
    "Data-Preprocessing"
   ]
  },
  {
   "cell_type": "code",
   "execution_count": 10,
   "id": "645a940a-f673-4925-ac7b-a380d70673e4",
   "metadata": {},
   "outputs": [],
   "source": [
    "#Boxplot\n",
    "#now we check the outlier of each column"
   ]
  },
  {
   "cell_type": "code",
   "execution_count": 11,
   "id": "af1a20fb-c007-4642-a2a4-34b7cf836f80",
   "metadata": {},
   "outputs": [
    {
     "data": {
      "text/plain": [
       "<Axes: >"
      ]
     },
     "execution_count": 11,
     "metadata": {},
     "output_type": "execute_result"
    },
    {
     "data": {
      "image/png": "[encoded data removed]",
      "text/plain": [
       "<Figure size 640x480 with 1 Axes>"
      ]
     },
     "metadata": {},
     "output_type": "display_data"
    }
   ],
   "source": [
    "sns.boxplot(phone['red'])\n",
    "#no outlier"
   ]
  },
  {
   "cell_type": "code",
   "execution_count": 12,
   "id": "45911f47-5945-4e24-bb00-a92ba1bda12c",
   "metadata": {},
   "outputs": [
    {
     "data": {
      "text/plain": [
       "<Axes: >"
      ]
     },
     "execution_count": 12,
     "metadata": {},
     "output_type": "execute_result"
    },
    {
     "data": {
      "image/png": "[encoded data removed]",
      "text/plain": [
       "<Figure size 640x480 with 1 Axes>"
      ]
     },
     "metadata": {},
     "output_type": "display_data"
    }
   ],
   "source": [
    "sns.boxplot(phone['white'])\n",
    "#no outlier"
   ]
  },
  {
   "cell_type": "code",
   "execution_count": 13,
   "id": "0dd1a514-2972-4d0f-8fb5-bf6147e4ad58",
   "metadata": {},
   "outputs": [
    {
     "data": {
      "text/plain": [
       "<Axes: >"
      ]
     },
     "execution_count": 13,
     "metadata": {},
     "output_type": "execute_result"
    },
    {
     "data": {
      "image/png": "[encoded data removed]",
      "text/plain": [
       "<Figure size 640x480 with 1 Axes>"
      ]
     },
     "metadata": {},
     "output_type": "display_data"
    }
   ],
   "source": [
    "sns.boxplot(phone['green'])\n",
    "#outlier"
   ]
  },
  {
   "cell_type": "code",
   "execution_count": 14,
   "id": "41a37730-9e14-47fc-bc69-815d05cf5e71",
   "metadata": {},
   "outputs": [
    {
     "data": {
      "text/plain": [
       "<Axes: >"
      ]
     },
     "execution_count": 14,
     "metadata": {},
     "output_type": "execute_result"
    },
    {
     "data": {
      "image/png": "[encoded data removed]",
      "text/plain": [
       "<Figure size 640x480 with 1 Axes>"
      ]
     },
     "metadata": {},
     "output_type": "display_data"
    }
   ],
   "source": [
    "sns.boxplot(phone['yellow'])\n",
    "#no outlier"
   ]
  },
  {
   "cell_type": "code",
   "execution_count": 15,
   "id": "7a84fce7-dc5a-408b-b241-30aef32f53d9",
   "metadata": {},
   "outputs": [
    {
     "data": {
      "text/plain": [
       "<Axes: >"
      ]
     },
     "execution_count": 15,
     "metadata": {},
     "output_type": "execute_result"
    },
    {
     "data": {
      "image/png": "[encoded data removed]",
      "text/plain": [
       "<Figure size 640x480 with 1 Axes>"
      ]
     },
     "metadata": {},
     "output_type": "display_data"
    }
   ],
   "source": [
    "sns.boxplot(phone['orange'])\n",
    "#outlier"
   ]
  },
  {
   "cell_type": "code",
   "execution_count": 16,
   "id": "24dd63f5-5410-4e2f-8237-3cbe6b46658d",
   "metadata": {},
   "outputs": [
    {
     "data": {
      "text/plain": [
       "<Axes: >"
      ]
     },
     "execution_count": 16,
     "metadata": {},
     "output_type": "execute_result"
    },
    {
     "data": {
      "image/png": "[encoded data removed]",
      "text/plain": [
       "<Figure size 640x480 with 1 Axes>"
      ]
     },
     "metadata": {},
     "output_type": "display_data"
    }
   ],
   "source": [
    "sns.boxplot(phone['blue'])\n",
    "#no outlier"
   ]
  },
  {
   "cell_type": "code",
   "execution_count": 17,
   "id": "dd0e9475-f809-4a09-96de-80e18b83a514",
   "metadata": {},
   "outputs": [],
   "source": [
    "#from boxplot it is observed that 'green','yellow', 'orange' column has outlier"
   ]
  },
  {
   "cell_type": "code",
   "execution_count": 18,
   "id": "9a6442c8-7182-4994-881d-111c981a9f3e",
   "metadata": {},
   "outputs": [],
   "source": [
    "#we have to remove it by using IQR technique"
   ]
  },
  {
   "cell_type": "code",
   "execution_count": 19,
   "id": "6e559b62-3fb7-47a0-9e81-0089ea59fc2c",
   "metadata": {},
   "outputs": [
    {
     "data": {
      "text/plain": [
       "<Axes: >"
      ]
     },
     "execution_count": 19,
     "metadata": {},
     "output_type": "execute_result"
    },
    {
     "data": {
      "image/png": "[encoded data removed]",
      "text/plain": [
       "<Figure size 640x480 with 1 Axes>"
      ]
     },
     "metadata": {},
     "output_type": "display_data"
    }
   ],
   "source": [
    "#1)green\n",
    "#q1=0.25 percentile\n",
    "#q3 = 0.75 percentile\n",
    "q1 = phone['green'].quantile(0.25)\n",
    "q3 = phone['green'].quantile(0.75)\n",
    "iqr = q3-q1\n",
    "#determine limits for outlier\n",
    "lower_limit = q1 - 1.5*(iqr)\n",
    "upper_limit = q3 + 1.5*(iqr)\n",
    "#Remove outlier\n",
    "phone['green'] = phone.loc[(phone['green']>=lower_limit) & (phone['green']<=upper_limit), 'green']\n",
    "\n",
    "sns.boxplot(phone['green'])\n",
    "#again from box plot we can see that outlier has removed"
   ]
  },
  {
   "cell_type": "code",
   "execution_count": 20,
   "id": "55a6e122-8dd3-4104-9bd4-b5c3c10523e7",
   "metadata": {},
   "outputs": [
    {
     "data": {
      "text/plain": [
       "<Axes: >"
      ]
     },
     "execution_count": 20,
     "metadata": {},
     "output_type": "execute_result"
    },
    {
     "data": {
      "image/png": "[encoded data removed]",
      "text/plain": [
       "<Figure size 640x480 with 1 Axes>"
      ]
     },
     "metadata": {},
     "output_type": "display_data"
    }
   ],
   "source": [
    "#2)yellow\n",
    "#q1=0.25 percentile\n",
    "#q3 = 0.75 percentile\n",
    "q1 = phone['yellow'].quantile(0.25)\n",
    "q3 = phone['yellow'].quantile(0.75)\n",
    "iqr = q3-q1\n",
    "#determine limits for outlier\n",
    "lower_limit = q1 - 1.5*(iqr)\n",
    "upper_limit = q3 + 1.5*(iqr)\n",
    "#Remove outlier\n",
    "phone['yellow'] = phone.loc[(phone['yellow']>=lower_limit) & (phone['yellow']<=upper_limit), 'yellow']\n",
    "\n",
    "sns.boxplot(phone['yellow'])\n",
    "#again from box plot we can see that outlier has removed"
   ]
  },
  {
   "cell_type": "code",
   "execution_count": 21,
   "id": "65ef9688-5e48-480a-aa34-06d320edea14",
   "metadata": {},
   "outputs": [
    {
     "data": {
      "text/plain": [
       "<Axes: >"
      ]
     },
     "execution_count": 21,
     "metadata": {},
     "output_type": "execute_result"
    },
    {
     "data": {
      "image/png": "[encoded data removed]",
      "text/plain": [
       "<Figure size 640x480 with 1 Axes>"
      ]
     },
     "metadata": {},
     "output_type": "display_data"
    }
   ],
   "source": [
    "#3)orange\n",
    "#q1=0.25 percentile\n",
    "#q3 = 0.75 percentile\n",
    "q1 = phone['orange'].quantile(0.25)\n",
    "q3 = phone['orange'].quantile(0.75)\n",
    "iqr = q3-q1\n",
    "#determine limits for outlier\n",
    "lower_limit = q1 - 1.5*(iqr)\n",
    "upper_limit = q3 + 1.5*(iqr)\n",
    "#Remove outlier\n",
    "phone['orange'] = phone.loc[(phone['orange']>=lower_limit) & (phone['orange']<=upper_limit), 'orange']\n",
    "\n",
    "sns.boxplot(phone['orange'])\n",
    "#again from box plot we can see that outlier has removed"
   ]
  },
  {
   "cell_type": "code",
   "execution_count": 22,
   "id": "7eb41505-e711-49d1-a12b-55ab2ba2cc36",
   "metadata": {},
   "outputs": [
    {
     "data": {
      "text/plain": [
       "red       0\n",
       "white     0\n",
       "green     2\n",
       "yellow    1\n",
       "orange    2\n",
       "blue      0\n",
       "dtype: int64"
      ]
     },
     "execution_count": 22,
     "metadata": {},
     "output_type": "execute_result"
    }
   ],
   "source": [
    "phone.isnull().sum()"
   ]
  },
  {
   "cell_type": "code",
   "execution_count": 23,
   "id": "adbba2a2-8102-45ad-914f-34e7389a1c34",
   "metadata": {},
   "outputs": [],
   "source": [
    "#now there some null value is generated which we can remove by mean imputation\n",
    "phone.fillna(phone.mean(),inplace=True)"
   ]
  },
  {
   "cell_type": "code",
   "execution_count": 24,
   "id": "24cdf630-3789-45ed-a75b-f8148c244b78",
   "metadata": {},
   "outputs": [
    {
     "data": {
      "text/plain": [
       "red       0\n",
       "white     0\n",
       "green     0\n",
       "yellow    0\n",
       "orange    0\n",
       "blue      0\n",
       "dtype: int64"
      ]
     },
     "execution_count": 24,
     "metadata": {},
     "output_type": "execute_result"
    }
   ],
   "source": [
    "phone.isnull().sum()\n",
    "#now there is no any null value in our data set"
   ]
  },
  {
   "cell_type": "code",
   "execution_count": 26,
   "id": "ab5b92f4-7450-4b1e-b6dc-01f232a803ac",
   "metadata": {},
   "outputs": [],
   "source": [
    "#step 1: Convert a dataset into a proper form which is suitable for Apriori\n",
    "te = TransactionEncoder()\n",
    "k = te.fit_transform(phone)\n",
    "phone1 = pd.DataFrame(k, columns = te.columns_)"
   ]
  },
  {
   "cell_type": "code",
   "execution_count": 28,
   "id": "55e379c4-869a-48dc-a07a-7abcd5d48d78",
   "metadata": {},
   "outputs": [
    {
     "name": "stdout",
     "output_type": "stream",
     "text": [
      "min_support=0.05  number of frequent itemsets = 135\n",
      "min_support=0.04  number of frequent itemsets = 135\n",
      "min_support=0.03  number of frequent itemsets = 135\n",
      "min_support=0.02  number of frequent itemsets = 135\n",
      "min_support=0.01  number of frequent itemsets = 135\n"
     ]
    }
   ],
   "source": [
    "#step 2: Apply Apriori algorithm to find frequent itemsets\n",
    "for support in [0.05,0.04,0.03,0.02,0.01]:\n",
    "    frequent = apriori(phone1, min_support=support, use_colnames=True)\n",
    "    print(f\"min_support={support}  number of frequent itemsets = {len(frequent)}\")"
   ]
  },
  {
   "cell_type": "code",
   "execution_count": 29,
   "id": "a596cc5e-b9ca-4be0-b18f-8a83e54a3daf",
   "metadata": {},
   "outputs": [
    {
     "name": "stdout",
     "output_type": "stream",
     "text": [
      "Item Frequencies: \n",
      " e    6\n",
      "r    3\n",
      "g    2\n",
      "l    2\n",
      "n    2\n",
      "o    2\n",
      "w    2\n",
      "a    1\n",
      "b    1\n",
      "d    1\n",
      "h    1\n",
      "i    1\n",
      "t    1\n",
      "u    1\n",
      "y    1\n",
      "dtype: int64\n"
     ]
    }
   ],
   "source": [
    "item_frequencies = phone1.sum().sort_values(ascending=False)\n",
    "print(\"Item Frequencies: \\n\",item_frequencies)"
   ]
  },
  {
   "cell_type": "code",
   "execution_count": 31,
   "id": "068dfcf2-a648-41a0-af41-a839900c9c7f",
   "metadata": {},
   "outputs": [
    {
     "data": {
      "image/png": "[encoded data removed]",
      "text/plain": [
       "<Figure size 640x480 with 1 Axes>"
      ]
     },
     "metadata": {},
     "output_type": "display_data"
    }
   ],
   "source": [
    "sns.barplot(x=item_frequencies.index, y=item_frequencies.values)\n",
    "plt.xticks(rotation=45)\n",
    "plt.xlabel('Items')\n",
    "plt.ylabel('Frequency')\n",
    "plt.title('Item Frequencies')\n",
    "plt.show()"
   ]
  },
  {
   "cell_type": "code",
   "execution_count": 37,
   "id": "ee5d19e4-f46c-4388-bc57-bd53e3ac06e8",
   "metadata": {},
   "outputs": [],
   "source": [
    "#Load your file (already done)\n",
    "df = pd.read_csv(\"C:/Assignments(DS)/myphonedata.csv\")\n"
   ]
  },
  {
   "cell_type": "code",
   "execution_count": 38,
   "id": "c1efbf91-b60b-437c-8fea-b74374d36180",
   "metadata": {},
   "outputs": [],
   "source": [
    "# Apply the Apriori algorithm\n",
    "df_bool = df.astype(bool)\n",
    "frequent_itemsets = apriori(df_bool, min_support=0.05, use_colnames=True)\n"
   ]
  },
  {
   "cell_type": "code",
   "execution_count": 39,
   "id": "2a8fcf6a-2d9c-40fd-8cb8-1b77d5843836",
   "metadata": {},
   "outputs": [],
   "source": [
    "#step 3: # Generate the association rules\n",
    "rules = association_rules(frequent_itemsets, metric=\"lift\", min_threshold=1)"
   ]
  },
  {
   "cell_type": "code",
   "execution_count": 40,
   "id": "986beacb-40d3-4e93-b68f-b537f065c62d",
   "metadata": {},
   "outputs": [
    {
     "name": "stdout",
     "output_type": "stream",
     "text": [
      "     support              itemsets\n",
      "0   0.545455                 (red)\n",
      "1   0.636364               (white)\n",
      "2   0.181818               (green)\n",
      "3   0.090909              (yellow)\n",
      "4   0.181818              (orange)\n",
      "5   0.545455                (blue)\n",
      "6   0.363636          (white, red)\n",
      "7   0.090909          (green, red)\n",
      "8   0.090909         (orange, red)\n",
      "9   0.363636           (blue, red)\n",
      "10  0.090909        (green, white)\n",
      "11  0.181818       (orange, white)\n",
      "12  0.363636         (white, blue)\n",
      "13  0.090909   (green, white, red)\n",
      "14  0.090909  (orange, white, red)\n",
      "15  0.181818    (white, blue, red)\n",
      "       antecedents     consequents   support  confidence\n",
      "0          (white)           (red)  0.363636    0.571429\n",
      "1            (red)         (white)  0.363636    0.666667\n",
      "2           (blue)           (red)  0.363636    0.666667\n",
      "3            (red)          (blue)  0.363636    0.666667\n",
      "4         (orange)         (white)  0.181818    1.000000\n",
      "5          (white)        (orange)  0.181818    0.285714\n",
      "6          (white)          (blue)  0.363636    0.571429\n",
      "7           (blue)         (white)  0.363636    0.666667\n",
      "8   (green, white)           (red)  0.090909    1.000000\n",
      "9     (green, red)         (white)  0.090909    1.000000\n",
      "10    (white, red)         (green)  0.090909    0.250000\n",
      "11         (green)    (white, red)  0.090909    0.500000\n",
      "12         (white)    (green, red)  0.090909    0.142857\n",
      "13           (red)  (green, white)  0.090909    0.166667\n",
      "14   (orange, red)         (white)  0.090909    1.000000\n",
      "15    (white, red)        (orange)  0.090909    0.250000\n",
      "16        (orange)    (white, red)  0.090909    0.500000\n",
      "17         (white)   (orange, red)  0.090909    0.142857\n"
     ]
    }
   ],
   "source": [
    "#step 4: Output\n",
    "print(frequent_itemsets)\n",
    "# print(rules)\n",
    "print(rules[['antecedents','consequents','support','confidence']])"
   ]
  },
  {
   "cell_type": "markdown",
   "id": "52229a91-ca49-4ccd-9935-7fbb64ee83f4",
   "metadata": {},
   "source": [
    "Benefits:\n",
    "\n",
    "Personalized Offers: By analyzing past sales data, the company can tailor offers and promotions based on customer preferences in different regions.\n",
    "Targeted Product Launch: Customers in each region will receive marketing for phone models that align with their specific preferences, ensuring better satisfaction.\n",
    "Improved Product Availability: The company can predict demand more accurately, ensuring that new models are available in regions where they are most likely to be popular.\n",
    "Better Customer Experience: Customers will experience more relevant advertising, leading to a smoother purchasing journey tailored to their interests and needs."
   ]
  },
  {
   "cell_type": "code",
   "execution_count": null,
   "id": "e5357d39-728e-46b7-b47b-8adbf8dee107",
   "metadata": {},
   "outputs": [],
   "source": []
  }
 ],
 "metadata": {
  "kernelspec": {
   "display_name": "Python 3 (ipykernel)",
   "language": "python",
   "name": "python3"
  },
  "language_info": {
   "codemirror_mode": {
    "name": "ipython",
    "version": 3
   },
   "file_extension": ".py",
   "mimetype": "text/x-python",
   "name": "python",
   "nbconvert_exporter": "python",
   "pygments_lexer": "ipython3",
   "version": "3.11.7"
  }
 },
 "nbformat": 4,
 "nbformat_minor": 5
}
