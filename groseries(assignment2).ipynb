{
 "cells": [
  {
   "cell_type": "markdown",
   "id": "05643554-cf77-4590-8bb6-3e28287c13cf",
   "metadata": {},
   "source": [
    "Problem Statement: - \n",
    "The Departmental Store, has gathered the data of the products it sells on a Daily basis.\n",
    "Using Association Rules concepts, provide the insights on the rules and the plots.\n"
   ]
  },
  {
   "cell_type": "markdown",
   "id": "eef872fc-91c9-4261-83c0-540000822444",
   "metadata": {},
   "source": [
    "Business Problem:\n",
    "The departmental store wants to optimize sales by identifying products frequently bought together using association rule mining."
   ]
  },
  {
   "cell_type": "code",
   "execution_count": 1,
   "id": "fd8bf20d-58ad-460a-8bc6-31d524ed51f5",
   "metadata": {},
   "outputs": [],
   "source": [
    "import pandas as pd \n",
    "import numpy as np \n",
    "\n",
    "import matplotlib.pyplot as plt  \n",
    "import seaborn as sns \n",
    "\n",
    "import pandas as pd \n",
    "from mlxtend.frequent_patterns  import apriori,association_rules \n",
    "from mlxtend.preprocessing import TransactionEncoder "
   ]
  },
  {
   "cell_type": "code",
   "execution_count": 5,
   "id": "6d80b843-1287-47eb-adaf-96ed63645114",
   "metadata": {},
   "outputs": [],
   "source": [
    "df = pd.read_csv(\"C:/Assignments(DS)/groceries.csv\",on_bad_lines='skip')"
   ]
  },
  {
   "cell_type": "code",
   "execution_count": 6,
   "id": "fd8828f7-d097-4022-bfd6-185e69c5da18",
   "metadata": {},
   "outputs": [
    {
     "data": {
      "text/html": [
       "<div>\n",
       "<style scoped>\n",
       "    .dataframe tbody tr th:only-of-type {\n",
       "        vertical-align: middle;\n",
       "    }\n",
       "\n",
       "    .dataframe tbody tr th {\n",
       "        vertical-align: top;\n",
       "    }\n",
       "\n",
       "    .dataframe thead th {\n",
       "        text-align: right;\n",
       "    }\n",
       "</style>\n",
       "<table border=\"1\" class=\"dataframe\">\n",
       "  <thead>\n",
       "    <tr style=\"text-align: right;\">\n",
       "      <th></th>\n",
       "      <th>citrus fruit</th>\n",
       "      <th>semi-finished bread</th>\n",
       "      <th>margarine</th>\n",
       "      <th>ready soups</th>\n",
       "    </tr>\n",
       "  </thead>\n",
       "  <tbody>\n",
       "    <tr>\n",
       "      <th>4534</th>\n",
       "      <td>pastry</td>\n",
       "      <td>waffles</td>\n",
       "      <td>shopping bags</td>\n",
       "      <td>NaN</td>\n",
       "    </tr>\n",
       "    <tr>\n",
       "      <th>2595</th>\n",
       "      <td>canned beer</td>\n",
       "      <td>NaN</td>\n",
       "      <td>NaN</td>\n",
       "      <td>NaN</td>\n",
       "    </tr>\n",
       "    <tr>\n",
       "      <th>5266</th>\n",
       "      <td>processed cheese</td>\n",
       "      <td>brown bread</td>\n",
       "      <td>NaN</td>\n",
       "      <td>NaN</td>\n",
       "    </tr>\n",
       "  </tbody>\n",
       "</table>\n",
       "</div>"
      ],
      "text/plain": [
       "          citrus fruit semi-finished bread      margarine ready soups\n",
       "4534            pastry             waffles  shopping bags         NaN\n",
       "2595       canned beer                 NaN            NaN         NaN\n",
       "5266  processed cheese         brown bread            NaN         NaN"
      ]
     },
     "execution_count": 6,
     "metadata": {},
     "output_type": "execute_result"
    }
   ],
   "source": [
    "df.sample(3)"
   ]
  },
  {
   "cell_type": "code",
   "execution_count": 7,
   "id": "35ffa3cc-e610-42a5-bd20-a83759ecbdf7",
   "metadata": {},
   "outputs": [
    {
     "name": "stdout",
     "output_type": "stream",
     "text": [
      "Empty DataFrame\n",
      "Columns: [support, itemsets]\n",
      "Index: []\n"
     ]
    }
   ],
   "source": [
    "#step 1:covert the dataset into a format suitable for Aprioriabs\n",
    "Ste=TransactionEncoder()\n",
    "k=Ste.fit_transform(df)\n",
    "\n",
    "df1=pd.DataFrame(k,columns=Ste.columns_)\n",
    "\n",
    "#step 2:Apply the Apriori algo \n",
    "frequent=apriori(df1,min_support=0.005,use_colnames=True)\n",
    "print(frequent)\n",
    "# rule=association_rules(frequent,metric='lift',min_threshold=1)"
   ]
  },
  {
   "cell_type": "code",
   "execution_count": 8,
   "id": "c469b23c-10eb-49c7-93d8-ed21d58eb649",
   "metadata": {},
   "outputs": [
    {
     "data": {
      "text/plain": [
       "(6105, 4)"
      ]
     },
     "execution_count": 8,
     "metadata": {},
     "output_type": "execute_result"
    }
   ],
   "source": [
    "df.shape"
   ]
  },
  {
   "cell_type": "code",
   "execution_count": 9,
   "id": "10ddef2b-c1e5-4e60-985d-6462cd2e4656",
   "metadata": {},
   "outputs": [
    {
     "name": "stdout",
     "output_type": "stream",
     "text": [
      "min_support=0.05, number of frequent itemsets: 0\n",
      "min_support=0.04, number of frequent itemsets: 0\n",
      "min_support=0.03, number of frequent itemsets: 0\n",
      "min_support=0.02, number of frequent itemsets: 0\n",
      "min_support=0.01, number of frequent itemsets: 0\n"
     ]
    }
   ],
   "source": [
    "for support in [0.05, 0.04, 0.03, 0.02, 0.01]:\n",
    "    frequent = apriori(df1, min_support=support, use_colnames=True)\n",
    "    print(f\"min_support={support}, number of frequent itemsets: {len(frequent)}\")"
   ]
  },
  {
   "cell_type": "code",
   "execution_count": 10,
   "id": "b6ea2c2f-eb30-472f-ac40-177597fef941",
   "metadata": {},
   "outputs": [
    {
     "data": {
      "text/plain": [
       "(6105, 20)"
      ]
     },
     "execution_count": 10,
     "metadata": {},
     "output_type": "execute_result"
    }
   ],
   "source": [
    "df1.shape"
   ]
  },
  {
   "cell_type": "code",
   "execution_count": 11,
   "id": "a9a7ef57-cd84-4ac5-ae7e-87c103911876",
   "metadata": {},
   "outputs": [
    {
     "name": "stdout",
     "output_type": "stream",
     "text": [
      "Item Frequencies:\n",
      " r    4\n",
      "     3\n",
      "e    3\n",
      "s    3\n",
      "i    3\n",
      "a    3\n",
      "d    2\n",
      "f    2\n",
      "m    2\n",
      "n    2\n",
      "u    2\n",
      "c    1\n",
      "g    1\n",
      "h    1\n",
      "-    1\n",
      "o    1\n",
      "p    1\n",
      "b    1\n",
      "t    1\n",
      "y    1\n",
      "dtype: int64\n"
     ]
    },
    {
     "data": {
      "image/png": "[encoded data removed]",
      "text/plain": [
       "<Figure size 1200x600 with 1 Axes>"
      ]
     },
     "metadata": {},
     "output_type": "display_data"
    }
   ],
   "source": [
    "import matplotlib.pyplot as plt\n",
    "import seaborn as sns\n",
    "\n",
    "item_frequencies = df1.sum().sort_values(ascending=False)\n",
    "print(\"Item Frequencies:\\n\", item_frequencies)\n",
    "plt.figure(figsize=(12, 6))\n",
    "sns.barplot(x=item_frequencies.index, y=item_frequencies.values)\n",
    "plt.xticks(rotation=45)\n",
    "plt.xlabel('Items')\n",
    "plt.ylabel('Frequency')\n",
    "plt.title('Item Frequencies')\n",
    "plt.show()"
   ]
  },
  {
   "cell_type": "code",
   "execution_count": null,
   "id": "996a1b06-1b23-4352-9d56-014ea4a34cd2",
   "metadata": {},
   "outputs": [],
   "source": []
  }
 ],
 "metadata": {
  "kernelspec": {
   "display_name": "Python 3 (ipykernel)",
   "language": "python",
   "name": "python3"
  },
  "language_info": {
   "codemirror_mode": {
    "name": "ipython",
    "version": 3
   },
   "file_extension": ".py",
   "mimetype": "text/x-python",
   "name": "python",
   "nbconvert_exporter": "python",
   "pygments_lexer": "ipython3",
   "version": "3.11.7"
  }
 },
 "nbformat": 4,
 "nbformat_minor": 5
}
