{
 "cells": [
  {
   "cell_type": "markdown",
   "id": "c2138c89-ace8-4e8e-a68a-d6d17b9e0360",
   "metadata": {},
   "source": [
    "Problem Statement: -\n",
    "Kitabi Duniya, a famous book store in India,which was established before Independence, the growth of\n",
    "the company was incremental year by year, but due to online selling of books and wide spread Internet\n",
    "access its annual growth started to collapse, seeing sharp downfalls, you as a Data Scientist help this \n",
    "heritage book store gain its popularity back and increase footfall of customers and provide ways the \n",
    "business can improve exponentially, apply Association RuleAlgorithm, explain the rules, and visualize \n",
    "the graphs for clear understanding of solution."
   ]
  },
  {
   "cell_type": "markdown",
   "id": "80cfadab-9080-47c8-a3e3-227a0d0e2c6f",
   "metadata": {},
   "source": [
    "Business Objectives:\n",
    "    \n",
    "1)Increase Footfall: First goal is to increase the customers in shop.\n",
    "2)To keep customers permentaly to buy in our shop rather than to switch a oher shop or to preferd a online platform\n",
    "3)By using association rule the store can arrange books in a way that customer can  purchases additional book based \n",
    "on patterns of frequently bought-together books.\n",
    "4)Identify opportunities to promote related or complementary book categories to increase overall sales.\n",
    "5)Use promotional strategies to match customer preferences, thereby customer can satisfy by buying books.\n"
   ]
  },
  {
   "cell_type": "code",
   "execution_count": 1,
   "id": "19f7a3a7-eae6-4f92-b847-68b6080e2020",
   "metadata": {},
   "outputs": [],
   "source": [
    "#import necessary libraries\n",
    "import pandas as pd\n",
    "import numpy as np\n",
    "import matplotlib.pyplot as plt\n",
    "import seaborn as sns\n",
    "from mlxtend.frequent_patterns import apriori,association_rules\n",
    "from mlxtend.preprocessing import TransactionEncoder"
   ]
  },
  {
   "cell_type": "code",
   "execution_count": 2,
   "id": "1dd3e8cc-1eb0-4662-8c48-3d309b998ec1",
   "metadata": {},
   "outputs": [],
   "source": [
    "#Uplaod file\n",
    "book = pd.read_csv(\"C:/Assignments(DS)/book.csv\")"
   ]
  },
  {
   "cell_type": "markdown",
   "id": "5c50e4d3-5e52-40ce-b2f6-028ec231046f",
   "metadata": {},
   "source": [
    "Exploratory Data Analysis (EDA)"
   ]
  },
  {
   "cell_type": "code",
   "execution_count": 4,
   "id": "c4326445-098e-4ff7-8a9a-ad2aedb66c15",
   "metadata": {},
   "outputs": [
    {
     "data": {
      "text/plain": [
       "(2000, 11)"
      ]
     },
     "execution_count": 4,
     "metadata": {},
     "output_type": "execute_result"
    }
   ],
   "source": [
    "book.shape\n",
    "#2000 rows and 11 columns"
   ]
  },
  {
   "cell_type": "code",
   "execution_count": 5,
   "id": "b1fbdf4b-4e42-4c15-99e0-dc6cc917cf4e",
   "metadata": {},
   "outputs": [
    {
     "data": {
      "text/plain": [
       "Index(['ChildBks', 'YouthBks', 'CookBks', 'DoItYBks', 'RefBks', 'ArtBks',\n",
       "       'GeogBks', 'ItalCook', 'ItalAtlas', 'ItalArt', 'Florence'],\n",
       "      dtype='object')"
      ]
     },
     "execution_count": 5,
     "metadata": {},
     "output_type": "execute_result"
    }
   ],
   "source": [
    "book.columns"
   ]
  },
  {
   "cell_type": "code",
   "execution_count": 6,
   "id": "f6059cf7-87d3-40d4-93e8-ee9b38636bc0",
   "metadata": {},
   "outputs": [
    {
     "data": {
      "text/plain": [
       "ChildBks     0\n",
       "YouthBks     0\n",
       "CookBks      0\n",
       "DoItYBks     0\n",
       "RefBks       0\n",
       "ArtBks       0\n",
       "GeogBks      0\n",
       "ItalCook     0\n",
       "ItalAtlas    0\n",
       "ItalArt      0\n",
       "Florence     0\n",
       "dtype: int64"
      ]
     },
     "execution_count": 6,
     "metadata": {},
     "output_type": "execute_result"
    }
   ],
   "source": [
    "book.isna().sum()\n",
    "#There is no any null value in all columns"
   ]
  },
  {
   "cell_type": "code",
   "execution_count": 7,
   "id": "ab944b7b-1e78-456b-a62a-3726fee4f67c",
   "metadata": {},
   "outputs": [
    {
     "data": {
      "text/plain": [
       "ChildBks     int64\n",
       "YouthBks     int64\n",
       "CookBks      int64\n",
       "DoItYBks     int64\n",
       "RefBks       int64\n",
       "ArtBks       int64\n",
       "GeogBks      int64\n",
       "ItalCook     int64\n",
       "ItalAtlas    int64\n",
       "ItalArt      int64\n",
       "Florence     int64\n",
       "dtype: object"
      ]
     },
     "execution_count": 7,
     "metadata": {},
     "output_type": "execute_result"
    }
   ],
   "source": [
    "book.dtypes\n",
    "#all columns data type are integer"
   ]
  },
  {
   "cell_type": "code",
   "execution_count": 8,
   "id": "a46fa57b-661c-428c-81d6-a544f9ac6622",
   "metadata": {},
   "outputs": [
    {
     "data": {
      "text/html": [
       "<div>\n",
       "<style scoped>\n",
       "    .dataframe tbody tr th:only-of-type {\n",
       "        vertical-align: middle;\n",
       "    }\n",
       "\n",
       "    .dataframe tbody tr th {\n",
       "        vertical-align: top;\n",
       "    }\n",
       "\n",
       "    .dataframe thead th {\n",
       "        text-align: right;\n",
       "    }\n",
       "</style>\n",
       "<table border=\"1\" class=\"dataframe\">\n",
       "  <thead>\n",
       "    <tr style=\"text-align: right;\">\n",
       "      <th></th>\n",
       "      <th>ChildBks</th>\n",
       "      <th>YouthBks</th>\n",
       "      <th>CookBks</th>\n",
       "      <th>DoItYBks</th>\n",
       "      <th>RefBks</th>\n",
       "      <th>ArtBks</th>\n",
       "      <th>GeogBks</th>\n",
       "      <th>ItalCook</th>\n",
       "      <th>ItalAtlas</th>\n",
       "      <th>ItalArt</th>\n",
       "      <th>Florence</th>\n",
       "    </tr>\n",
       "  </thead>\n",
       "  <tbody>\n",
       "    <tr>\n",
       "      <th>count</th>\n",
       "      <td>2000.000000</td>\n",
       "      <td>2000.000000</td>\n",
       "      <td>2000.00000</td>\n",
       "      <td>2000.000000</td>\n",
       "      <td>2000.000000</td>\n",
       "      <td>2000.000000</td>\n",
       "      <td>2000.000000</td>\n",
       "      <td>2000.000000</td>\n",
       "      <td>2000.000000</td>\n",
       "      <td>2000.000000</td>\n",
       "      <td>2000.000000</td>\n",
       "    </tr>\n",
       "    <tr>\n",
       "      <th>mean</th>\n",
       "      <td>0.423000</td>\n",
       "      <td>0.247500</td>\n",
       "      <td>0.43100</td>\n",
       "      <td>0.282000</td>\n",
       "      <td>0.214500</td>\n",
       "      <td>0.241000</td>\n",
       "      <td>0.276000</td>\n",
       "      <td>0.113500</td>\n",
       "      <td>0.037000</td>\n",
       "      <td>0.048500</td>\n",
       "      <td>0.108500</td>\n",
       "    </tr>\n",
       "    <tr>\n",
       "      <th>std</th>\n",
       "      <td>0.494159</td>\n",
       "      <td>0.431668</td>\n",
       "      <td>0.49534</td>\n",
       "      <td>0.450086</td>\n",
       "      <td>0.410578</td>\n",
       "      <td>0.427797</td>\n",
       "      <td>0.447129</td>\n",
       "      <td>0.317282</td>\n",
       "      <td>0.188809</td>\n",
       "      <td>0.214874</td>\n",
       "      <td>0.311089</td>\n",
       "    </tr>\n",
       "    <tr>\n",
       "      <th>min</th>\n",
       "      <td>0.000000</td>\n",
       "      <td>0.000000</td>\n",
       "      <td>0.00000</td>\n",
       "      <td>0.000000</td>\n",
       "      <td>0.000000</td>\n",
       "      <td>0.000000</td>\n",
       "      <td>0.000000</td>\n",
       "      <td>0.000000</td>\n",
       "      <td>0.000000</td>\n",
       "      <td>0.000000</td>\n",
       "      <td>0.000000</td>\n",
       "    </tr>\n",
       "    <tr>\n",
       "      <th>25%</th>\n",
       "      <td>0.000000</td>\n",
       "      <td>0.000000</td>\n",
       "      <td>0.00000</td>\n",
       "      <td>0.000000</td>\n",
       "      <td>0.000000</td>\n",
       "      <td>0.000000</td>\n",
       "      <td>0.000000</td>\n",
       "      <td>0.000000</td>\n",
       "      <td>0.000000</td>\n",
       "      <td>0.000000</td>\n",
       "      <td>0.000000</td>\n",
       "    </tr>\n",
       "    <tr>\n",
       "      <th>50%</th>\n",
       "      <td>0.000000</td>\n",
       "      <td>0.000000</td>\n",
       "      <td>0.00000</td>\n",
       "      <td>0.000000</td>\n",
       "      <td>0.000000</td>\n",
       "      <td>0.000000</td>\n",
       "      <td>0.000000</td>\n",
       "      <td>0.000000</td>\n",
       "      <td>0.000000</td>\n",
       "      <td>0.000000</td>\n",
       "      <td>0.000000</td>\n",
       "    </tr>\n",
       "    <tr>\n",
       "      <th>75%</th>\n",
       "      <td>1.000000</td>\n",
       "      <td>0.000000</td>\n",
       "      <td>1.00000</td>\n",
       "      <td>1.000000</td>\n",
       "      <td>0.000000</td>\n",
       "      <td>0.000000</td>\n",
       "      <td>1.000000</td>\n",
       "      <td>0.000000</td>\n",
       "      <td>0.000000</td>\n",
       "      <td>0.000000</td>\n",
       "      <td>0.000000</td>\n",
       "    </tr>\n",
       "    <tr>\n",
       "      <th>max</th>\n",
       "      <td>1.000000</td>\n",
       "      <td>1.000000</td>\n",
       "      <td>1.00000</td>\n",
       "      <td>1.000000</td>\n",
       "      <td>1.000000</td>\n",
       "      <td>1.000000</td>\n",
       "      <td>1.000000</td>\n",
       "      <td>1.000000</td>\n",
       "      <td>1.000000</td>\n",
       "      <td>1.000000</td>\n",
       "      <td>1.000000</td>\n",
       "    </tr>\n",
       "  </tbody>\n",
       "</table>\n",
       "</div>"
      ],
      "text/plain": [
       "          ChildBks     YouthBks     CookBks     DoItYBks       RefBks  \\\n",
       "count  2000.000000  2000.000000  2000.00000  2000.000000  2000.000000   \n",
       "mean      0.423000     0.247500     0.43100     0.282000     0.214500   \n",
       "std       0.494159     0.431668     0.49534     0.450086     0.410578   \n",
       "min       0.000000     0.000000     0.00000     0.000000     0.000000   \n",
       "25%       0.000000     0.000000     0.00000     0.000000     0.000000   \n",
       "50%       0.000000     0.000000     0.00000     0.000000     0.000000   \n",
       "75%       1.000000     0.000000     1.00000     1.000000     0.000000   \n",
       "max       1.000000     1.000000     1.00000     1.000000     1.000000   \n",
       "\n",
       "            ArtBks      GeogBks     ItalCook    ItalAtlas      ItalArt  \\\n",
       "count  2000.000000  2000.000000  2000.000000  2000.000000  2000.000000   \n",
       "mean      0.241000     0.276000     0.113500     0.037000     0.048500   \n",
       "std       0.427797     0.447129     0.317282     0.188809     0.214874   \n",
       "min       0.000000     0.000000     0.000000     0.000000     0.000000   \n",
       "25%       0.000000     0.000000     0.000000     0.000000     0.000000   \n",
       "50%       0.000000     0.000000     0.000000     0.000000     0.000000   \n",
       "75%       0.000000     1.000000     0.000000     0.000000     0.000000   \n",
       "max       1.000000     1.000000     1.000000     1.000000     1.000000   \n",
       "\n",
       "          Florence  \n",
       "count  2000.000000  \n",
       "mean      0.108500  \n",
       "std       0.311089  \n",
       "min       0.000000  \n",
       "25%       0.000000  \n",
       "50%       0.000000  \n",
       "75%       0.000000  \n",
       "max       1.000000  "
      ]
     },
     "execution_count": 8,
     "metadata": {},
     "output_type": "execute_result"
    }
   ],
   "source": [
    "book.describe()\n",
    "#there is no large difference between 5 no. summary\n",
    "#hence their is no need of normalizaton"
   ]
  },
  {
   "cell_type": "code",
   "execution_count": 9,
   "id": "fe8493ab-a173-4094-a9ad-fa009b2d4b86",
   "metadata": {},
   "outputs": [
    {
     "data": {
      "text/html": [
       "<div>\n",
       "<style scoped>\n",
       "    .dataframe tbody tr th:only-of-type {\n",
       "        vertical-align: middle;\n",
       "    }\n",
       "\n",
       "    .dataframe tbody tr th {\n",
       "        vertical-align: top;\n",
       "    }\n",
       "\n",
       "    .dataframe thead th {\n",
       "        text-align: right;\n",
       "    }\n",
       "</style>\n",
       "<table border=\"1\" class=\"dataframe\">\n",
       "  <thead>\n",
       "    <tr style=\"text-align: right;\">\n",
       "      <th></th>\n",
       "      <th>ChildBks</th>\n",
       "      <th>YouthBks</th>\n",
       "      <th>CookBks</th>\n",
       "      <th>DoItYBks</th>\n",
       "      <th>RefBks</th>\n",
       "      <th>ArtBks</th>\n",
       "      <th>GeogBks</th>\n",
       "      <th>ItalCook</th>\n",
       "      <th>ItalAtlas</th>\n",
       "      <th>ItalArt</th>\n",
       "      <th>Florence</th>\n",
       "    </tr>\n",
       "  </thead>\n",
       "  <tbody>\n",
       "    <tr>\n",
       "      <th>0</th>\n",
       "      <td>0</td>\n",
       "      <td>1</td>\n",
       "      <td>0</td>\n",
       "      <td>1</td>\n",
       "      <td>0</td>\n",
       "      <td>0</td>\n",
       "      <td>1</td>\n",
       "      <td>0</td>\n",
       "      <td>0</td>\n",
       "      <td>0</td>\n",
       "      <td>0</td>\n",
       "    </tr>\n",
       "    <tr>\n",
       "      <th>1</th>\n",
       "      <td>1</td>\n",
       "      <td>0</td>\n",
       "      <td>0</td>\n",
       "      <td>0</td>\n",
       "      <td>0</td>\n",
       "      <td>0</td>\n",
       "      <td>0</td>\n",
       "      <td>0</td>\n",
       "      <td>0</td>\n",
       "      <td>0</td>\n",
       "      <td>0</td>\n",
       "    </tr>\n",
       "    <tr>\n",
       "      <th>2</th>\n",
       "      <td>0</td>\n",
       "      <td>0</td>\n",
       "      <td>0</td>\n",
       "      <td>0</td>\n",
       "      <td>0</td>\n",
       "      <td>0</td>\n",
       "      <td>0</td>\n",
       "      <td>0</td>\n",
       "      <td>0</td>\n",
       "      <td>0</td>\n",
       "      <td>0</td>\n",
       "    </tr>\n",
       "    <tr>\n",
       "      <th>3</th>\n",
       "      <td>1</td>\n",
       "      <td>1</td>\n",
       "      <td>1</td>\n",
       "      <td>0</td>\n",
       "      <td>1</td>\n",
       "      <td>0</td>\n",
       "      <td>1</td>\n",
       "      <td>0</td>\n",
       "      <td>0</td>\n",
       "      <td>0</td>\n",
       "      <td>0</td>\n",
       "    </tr>\n",
       "    <tr>\n",
       "      <th>4</th>\n",
       "      <td>0</td>\n",
       "      <td>0</td>\n",
       "      <td>1</td>\n",
       "      <td>0</td>\n",
       "      <td>0</td>\n",
       "      <td>0</td>\n",
       "      <td>1</td>\n",
       "      <td>0</td>\n",
       "      <td>0</td>\n",
       "      <td>0</td>\n",
       "      <td>0</td>\n",
       "    </tr>\n",
       "  </tbody>\n",
       "</table>\n",
       "</div>"
      ],
      "text/plain": [
       "   ChildBks  YouthBks  CookBks  DoItYBks  RefBks  ArtBks  GeogBks  ItalCook  \\\n",
       "0         0         1        0         1       0       0        1         0   \n",
       "1         1         0        0         0       0       0        0         0   \n",
       "2         0         0        0         0       0       0        0         0   \n",
       "3         1         1        1         0       1       0        1         0   \n",
       "4         0         0        1         0       0       0        1         0   \n",
       "\n",
       "   ItalAtlas  ItalArt  Florence  \n",
       "0          0        0         0  \n",
       "1          0        0         0  \n",
       "2          0        0         0  \n",
       "3          0        0         0  \n",
       "4          0        0         0  "
      ]
     },
     "execution_count": 9,
     "metadata": {},
     "output_type": "execute_result"
    }
   ],
   "source": [
    "book.head()"
   ]
  },
  {
   "cell_type": "markdown",
   "id": "cf2b37df-f516-48d7-964d-54deebb9c763",
   "metadata": {},
   "source": [
    "Boxplot"
   ]
  },
  {
   "cell_type": "code",
   "execution_count": 10,
   "id": "23bf5776-e049-4c89-9430-368a5e67e964",
   "metadata": {},
   "outputs": [
    {
     "data": {
      "text/plain": [
       "<Axes: >"
      ]
     },
     "execution_count": 10,
     "metadata": {},
     "output_type": "execute_result"
    },
    {
     "data": {
      "image/png": "[encoded data removed]",
      "text/plain": [
       "<Figure size 640x480 with 1 Axes>"
      ]
     },
     "metadata": {},
     "output_type": "display_data"
    }
   ],
   "source": [
    "sns.boxplot(book['ChildBks'])\n",
    "#there is no outlier"
   ]
  },
  {
   "cell_type": "code",
   "execution_count": 11,
   "id": "57392046-6845-42c2-a8bf-563b783731ca",
   "metadata": {},
   "outputs": [
    {
     "data": {
      "text/plain": [
       "<Axes: >"
      ]
     },
     "execution_count": 11,
     "metadata": {},
     "output_type": "execute_result"
    },
    {
     "data": {
      "image/png": "[encoded data removed]",
      "text/plain": [
       "<Figure size 640x480 with 1 Axes>"
      ]
     },
     "metadata": {},
     "output_type": "display_data"
    }
   ],
   "source": [
    "sns.boxplot(book['YouthBks'])\n",
    "#there is outlier "
   ]
  },
  {
   "cell_type": "code",
   "execution_count": 12,
   "id": "82ea4426-ea7b-46d1-9d6a-cc23cdc53b0a",
   "metadata": {},
   "outputs": [
    {
     "data": {
      "text/plain": [
       "<Axes: >"
      ]
     },
     "execution_count": 12,
     "metadata": {},
     "output_type": "execute_result"
    },
    {
     "data": {
      "image/png": "[encoded data removed]",
      "text/plain": [
       "<Figure size 640x480 with 1 Axes>"
      ]
     },
     "metadata": {},
     "output_type": "display_data"
    }
   ],
   "source": [
    "sns.boxplot(book['CookBks'])\n",
    "#no outlier "
   ]
  },
  {
   "cell_type": "code",
   "execution_count": 13,
   "id": "84896b64-842c-4dfd-93ae-94386566c1f8",
   "metadata": {},
   "outputs": [
    {
     "data": {
      "text/plain": [
       "<Axes: >"
      ]
     },
     "execution_count": 13,
     "metadata": {},
     "output_type": "execute_result"
    },
    {
     "data": {
      "image/png": "[encoded data removed]",
      "text/plain": [
       "<Figure size 640x480 with 1 Axes>"
      ]
     },
     "metadata": {},
     "output_type": "display_data"
    }
   ],
   "source": [
    "sns.boxplot(book['DoItYBks'])\n",
    "#no outlier"
   ]
  },
  {
   "cell_type": "code",
   "execution_count": 14,
   "id": "1c343998-9441-4631-906c-22d876a8b87b",
   "metadata": {},
   "outputs": [
    {
     "data": {
      "text/plain": [
       "<Axes: >"
      ]
     },
     "execution_count": 14,
     "metadata": {},
     "output_type": "execute_result"
    },
    {
     "data": {
      "image/png": "[encoded data removed]",
      "text/plain": [
       "<Figure size 640x480 with 1 Axes>"
      ]
     },
     "metadata": {},
     "output_type": "display_data"
    }
   ],
   "source": [
    "sns.boxplot(book['RefBks'])\n",
    "#outlier"
   ]
  },
  {
   "cell_type": "code",
   "execution_count": 15,
   "id": "cb6f9985-2562-44f8-a70e-30833929a542",
   "metadata": {},
   "outputs": [
    {
     "data": {
      "text/plain": [
       "<Axes: >"
      ]
     },
     "execution_count": 15,
     "metadata": {},
     "output_type": "execute_result"
    },
    {
     "data": {
      "image/png": "[encoded data removed]",
      "text/plain": [
       "<Figure size 640x480 with 1 Axes>"
      ]
     },
     "metadata": {},
     "output_type": "display_data"
    }
   ],
   "source": [
    "sns.boxplot(book['ArtBks'])\n",
    "#outlier"
   ]
  },
  {
   "cell_type": "code",
   "execution_count": 16,
   "id": "cef1741d-3a34-4220-9b9e-10ed4e1bad84",
   "metadata": {},
   "outputs": [
    {
     "data": {
      "text/plain": [
       "<Axes: >"
      ]
     },
     "execution_count": 16,
     "metadata": {},
     "output_type": "execute_result"
    },
    {
     "data": {
      "image/png": "[encoded data removed]",
      "text/plain": [
       "<Figure size 640x480 with 1 Axes>"
      ]
     },
     "metadata": {},
     "output_type": "display_data"
    }
   ],
   "source": [
    "sns.boxplot(book['GeogBks']) \n",
    "#no outlier"
   ]
  },
  {
   "cell_type": "code",
   "execution_count": 17,
   "id": "ad905a8d-5edf-4e8e-bddb-042dc80dad59",
   "metadata": {},
   "outputs": [
    {
     "data": {
      "text/plain": [
       "<Axes: >"
      ]
     },
     "execution_count": 17,
     "metadata": {},
     "output_type": "execute_result"
    },
    {
     "data": {
      "image/png": "[encoded data removed]",
      "text/plain": [
       "<Figure size 640x480 with 1 Axes>"
      ]
     },
     "metadata": {},
     "output_type": "display_data"
    }
   ],
   "source": [
    "sns.boxplot(book['ItalCook']) \n",
    "#outlier"
   ]
  },
  {
   "cell_type": "code",
   "execution_count": 18,
   "id": "aa210fef-aae7-4a45-b922-a0edcae1ce93",
   "metadata": {},
   "outputs": [
    {
     "data": {
      "text/plain": [
       "<Axes: >"
      ]
     },
     "execution_count": 18,
     "metadata": {},
     "output_type": "execute_result"
    },
    {
     "data": {
      "image/png": "[encoded data removed]",
      "text/plain": [
       "<Figure size 640x480 with 1 Axes>"
      ]
     },
     "metadata": {},
     "output_type": "display_data"
    }
   ],
   "source": [
    "sns.boxplot(book['ItalAtlas']) \n",
    "#outlier"
   ]
  },
  {
   "cell_type": "code",
   "execution_count": 19,
   "id": "81dbebcb-565e-4cec-b8f6-9ca839151563",
   "metadata": {},
   "outputs": [
    {
     "data": {
      "text/plain": [
       "<Axes: >"
      ]
     },
     "execution_count": 19,
     "metadata": {},
     "output_type": "execute_result"
    },
    {
     "data": {
      "image/png": "[encoded data removed]",
      "text/plain": [
       "<Figure size 640x480 with 1 Axes>"
      ]
     },
     "metadata": {},
     "output_type": "display_data"
    }
   ],
   "source": [
    "sns.boxplot(book['ItalArt']) \n",
    "#outlier"
   ]
  },
  {
   "cell_type": "code",
   "execution_count": 20,
   "id": "da0d0c15-b330-452f-929f-5b0c6b9c6f3c",
   "metadata": {},
   "outputs": [
    {
     "data": {
      "text/plain": [
       "<Axes: >"
      ]
     },
     "execution_count": 20,
     "metadata": {},
     "output_type": "execute_result"
    },
    {
     "data": {
      "image/png": "[encoded data removed]",
      "text/plain": [
       "<Figure size 640x480 with 1 Axes>"
      ]
     },
     "metadata": {},
     "output_type": "display_data"
    }
   ],
   "source": [
    "sns.boxplot(book['Florence']) \n",
    "#outlier\n"
   ]
  },
  {
   "cell_type": "markdown",
   "id": "9c69eb42-9a97-4913-bd7d-6bc001a33508",
   "metadata": {},
   "source": [
    "Data Pre-processing"
   ]
  },
  {
   "cell_type": "code",
   "execution_count": 21,
   "id": "c5a37bcd-5c18-4326-979b-2eac420c2f05",
   "metadata": {},
   "outputs": [
    {
     "data": {
      "text/plain": [
       "<Axes: >"
      ]
     },
     "execution_count": 21,
     "metadata": {},
     "output_type": "execute_result"
    },
    {
     "data": {
      "image/png": "[encoded data removed]",
      "text/plain": [
       "<Figure size 640x480 with 1 Axes>"
      ]
     },
     "metadata": {},
     "output_type": "display_data"
    }
   ],
   "source": [
    "#for removing outlier we use IQR\n",
    "\n",
    "#1.YouthBks\n",
    "#caluculate q1 & q3\n",
    "#q1=25th percentile\n",
    "#q2=75th percentile\n",
    "q1=book['YouthBks'].quantile(0.75)\n",
    "q3=book['YouthBks'].quantile(0.25)\n",
    "iqr = q3-q1\n",
    "#determine limits for outlier\n",
    "lower_limit = q1-1.5*(iqr)\n",
    "upper_limit = q3+1.5*(iqr)\n",
    "#Remove outlier\n",
    "book['YouthBks'] = book.loc[(book['YouthBks']>=lower_limit) & (book['YouthBks']<=upper_limit), 'YouthBks']\n",
    "sns.boxplot(book['YouthBks'])\n",
    "#again from box plot we can see that outlier has removed"
   ]
  },
  {
   "cell_type": "code",
   "execution_count": 22,
   "id": "c953de4c-adfb-47ab-8f69-ba2c1c850722",
   "metadata": {},
   "outputs": [
    {
     "data": {
      "text/plain": [
       "<Axes: >"
      ]
     },
     "execution_count": 22,
     "metadata": {},
     "output_type": "execute_result"
    },
    {
     "data": {
      "image/png": "[encoded data removed]",
      "text/plain": [
       "<Figure size 640x480 with 1 Axes>"
      ]
     },
     "metadata": {},
     "output_type": "display_data"
    }
   ],
   "source": [
    "#2.RefBks\n",
    "#caluculate q1 & q3\n",
    "#q1=25th percentile\n",
    "#q2=75th percentile\n",
    "q1=book['RefBks'].quantile(0.75)\n",
    "q3=book['RefBks'].quantile(0.25)\n",
    "iqr = q3-q1\n",
    "#determine limits for outlier\n",
    "lower_limit = q1-1.5*(iqr)\n",
    "upper_limit = q3+1.5*(iqr)\n",
    "#Remove outlier\n",
    "book['RefBks'] = book.loc[(book['RefBks']>=lower_limit) & (book['RefBks']<=upper_limit), 'RefBks']\n",
    "sns.boxplot(book['RefBks'])\n",
    "#again from box plot we can see that outlier has removed\n"
   ]
  },
  {
   "cell_type": "code",
   "execution_count": 23,
   "id": "a4c7771c-3770-459d-94ca-3b3c5c00a9d4",
   "metadata": {},
   "outputs": [
    {
     "data": {
      "text/plain": [
       "<Axes: >"
      ]
     },
     "execution_count": 23,
     "metadata": {},
     "output_type": "execute_result"
    },
    {
     "data": {
      "image/png": "[encoded data removed]",
      "text/plain": [
       "<Figure size 640x480 with 1 Axes>"
      ]
     },
     "metadata": {},
     "output_type": "display_data"
    }
   ],
   "source": [
    "#3.ArtBks\n",
    "#caluculate q1 & q3\n",
    "#q1=25th percentile\n",
    "#q2=75th percentile\n",
    "q1=book['ArtBks'].quantile(0.75)\n",
    "q3=book['ArtBks'].quantile(0.25)\n",
    "iqr = q3-q1\n",
    "#determine limits for outlier\n",
    "lower_limit = q1-1.5*(iqr)\n",
    "upper_limit = q3+1.5*(iqr)\n",
    "#Remove outlier\n",
    "book['ArtBks'] = book.loc[(book['ArtBks']>=lower_limit) & (book['ArtBks']<=upper_limit), 'ArtBks']\n",
    "sns.boxplot(book['ArtBks'])\n",
    "#again from box plot we can see that outlier has removed\n"
   ]
  },
  {
   "cell_type": "code",
   "execution_count": 24,
   "id": "dfe973b4-0e7e-4e1f-ac46-cbc4371aeb93",
   "metadata": {},
   "outputs": [
    {
     "data": {
      "text/plain": [
       "<Axes: >"
      ]
     },
     "execution_count": 24,
     "metadata": {},
     "output_type": "execute_result"
    },
    {
     "data": {
      "image/png": "[encoded data removed]",
      "text/plain": [
       "<Figure size 640x480 with 1 Axes>"
      ]
     },
     "metadata": {},
     "output_type": "display_data"
    }
   ],
   "source": [
    "#4.ArtBks\n",
    "#caluculate q1 & q3\n",
    "#q1=25th percentile\n",
    "#q2=75th percentile\n",
    "q1=book['ItalCook'].quantile(0.75)\n",
    "q3=book['ItalCook'].quantile(0.25)\n",
    "iqr = q3-q1\n",
    "#determine limits for outlier\n",
    "lower_limit = q1-1.5*(iqr)\n",
    "upper_limit = q3+1.5*(iqr)\n",
    "#Remove outlier\n",
    "book['ItalCook'] = book.loc[(book['ItalCook']>=lower_limit) & (book['ItalCook']<=upper_limit), 'ItalCook']\n",
    "sns.boxplot(book['ItalCook'])\n",
    "#again from box plot we can see that outlier has removed\n"
   ]
  },
  {
   "cell_type": "code",
   "execution_count": 25,
   "id": "9af2402f-f38e-464d-812b-af02a08b62b4",
   "metadata": {},
   "outputs": [
    {
     "data": {
      "text/plain": [
       "<Axes: >"
      ]
     },
     "execution_count": 25,
     "metadata": {},
     "output_type": "execute_result"
    },
    {
     "data": {
      "image/png": "[encoded data removed]",
      "text/plain": [
       "<Figure size 640x480 with 1 Axes>"
      ]
     },
     "metadata": {},
     "output_type": "display_data"
    }
   ],
   "source": [
    "#5.ItalAtlas\n",
    "#caluculate q1 & q3\n",
    "#q1=25th percentile\n",
    "#q2=75th percentile\n",
    "q1=book['ItalAtlas'].quantile(0.75)\n",
    "q3=book['ItalAtlas'].quantile(0.25)\n",
    "iqr = q3-q1\n",
    "#determine limits for outlier\n",
    "lower_limit = q1-1.5*(iqr)\n",
    "upper_limit = q3+1.5*(iqr)\n",
    "#Remove outlier\n",
    "book['ItalAtlas'] = book.loc[(book['ItalAtlas']>=lower_limit) & (book['ItalAtlas']<=upper_limit), 'ItalAtlas']\n",
    "sns.boxplot(book['ItalAtlas'])\n",
    "#again from box plot we can see that outlier has removed\n"
   ]
  },
  {
   "cell_type": "code",
   "execution_count": 26,
   "id": "e357ddd4-d0a6-4357-b4e6-8a65f3a02186",
   "metadata": {},
   "outputs": [
    {
     "data": {
      "text/plain": [
       "<Axes: >"
      ]
     },
     "execution_count": 26,
     "metadata": {},
     "output_type": "execute_result"
    },
    {
     "data": {
      "image/png": "[encoded data removed]",
      "text/plain": [
       "<Figure size 640x480 with 1 Axes>"
      ]
     },
     "metadata": {},
     "output_type": "display_data"
    }
   ],
   "source": [
    "#6.ItalArt\n",
    "#caluculate q1 & q3\n",
    "#q1=25th percentile\n",
    "#q2=75th percentile\n",
    "q1=book['ItalArt'].quantile(0.75)\n",
    "q3=book['ItalArt'].quantile(0.25)\n",
    "iqr = q3-q1\n",
    "#determine limits for outlier\n",
    "lower_limit = q1-1.5*(iqr)\n",
    "upper_limit = q3+1.5*(iqr)\n",
    "#Remove outlier\n",
    "book['ItalArt'] = book.loc[(book['ItalArt']>=lower_limit) & (book['ItalArt']<=upper_limit), 'ItalArt']\n",
    "sns.boxplot(book['ItalArt'])\n",
    "#again from box plot we can see that outlier has removed\n"
   ]
  },
  {
   "cell_type": "code",
   "execution_count": 27,
   "id": "106a64d1-8963-4616-aec7-1f547b6ddbe4",
   "metadata": {},
   "outputs": [
    {
     "data": {
      "text/plain": [
       "<Axes: >"
      ]
     },
     "execution_count": 27,
     "metadata": {},
     "output_type": "execute_result"
    },
    {
     "data": {
      "image/png": "[encoded data removed]",
      "text/plain": [
       "<Figure size 640x480 with 1 Axes>"
      ]
     },
     "metadata": {},
     "output_type": "display_data"
    }
   ],
   "source": [
    "#7.Florence\n",
    "#caluculate q1 & q3\n",
    "#q1=25th percentile\n",
    "#q2=75th percentile\n",
    "q1=book['Florence'].quantile(0.75)\n",
    "q3=book['Florence'].quantile(0.25)\n",
    "iqr = q3-q1\n",
    "#determine limits for outlier\n",
    "lower_limit = q1-1.5*(iqr)\n",
    "upper_limit = q3+1.5*(iqr)\n",
    "#Remove outlier\n",
    "book['Florence'] = book.loc[(book['Florence']>=lower_limit) & (book['Florence']<=upper_limit), 'Florence']\n",
    "sns.boxplot(book['Florence'])\n",
    "#again from box plot we can see that outlier has removed\n"
   ]
  },
  {
   "cell_type": "code",
   "execution_count": 28,
   "id": "900ffc73-7845-4a24-9cb5-285aebd71d1f",
   "metadata": {},
   "outputs": [
    {
     "data": {
      "text/html": [
       "<div>\n",
       "<style scoped>\n",
       "    .dataframe tbody tr th:only-of-type {\n",
       "        vertical-align: middle;\n",
       "    }\n",
       "\n",
       "    .dataframe tbody tr th {\n",
       "        vertical-align: top;\n",
       "    }\n",
       "\n",
       "    .dataframe thead th {\n",
       "        text-align: right;\n",
       "    }\n",
       "</style>\n",
       "<table border=\"1\" class=\"dataframe\">\n",
       "  <thead>\n",
       "    <tr style=\"text-align: right;\">\n",
       "      <th></th>\n",
       "      <th>ChildBks</th>\n",
       "      <th>YouthBks</th>\n",
       "      <th>CookBks</th>\n",
       "      <th>DoItYBks</th>\n",
       "      <th>RefBks</th>\n",
       "      <th>ArtBks</th>\n",
       "      <th>GeogBks</th>\n",
       "      <th>ItalCook</th>\n",
       "      <th>ItalAtlas</th>\n",
       "      <th>ItalArt</th>\n",
       "      <th>Florence</th>\n",
       "    </tr>\n",
       "  </thead>\n",
       "  <tbody>\n",
       "    <tr>\n",
       "      <th>count</th>\n",
       "      <td>2000.000000</td>\n",
       "      <td>1505.0</td>\n",
       "      <td>2000.00000</td>\n",
       "      <td>2000.000000</td>\n",
       "      <td>1571.0</td>\n",
       "      <td>1518.0</td>\n",
       "      <td>2000.000000</td>\n",
       "      <td>1773.0</td>\n",
       "      <td>1926.0</td>\n",
       "      <td>1903.0</td>\n",
       "      <td>1783.0</td>\n",
       "    </tr>\n",
       "    <tr>\n",
       "      <th>mean</th>\n",
       "      <td>0.423000</td>\n",
       "      <td>0.0</td>\n",
       "      <td>0.43100</td>\n",
       "      <td>0.282000</td>\n",
       "      <td>0.0</td>\n",
       "      <td>0.0</td>\n",
       "      <td>0.276000</td>\n",
       "      <td>0.0</td>\n",
       "      <td>0.0</td>\n",
       "      <td>0.0</td>\n",
       "      <td>0.0</td>\n",
       "    </tr>\n",
       "    <tr>\n",
       "      <th>std</th>\n",
       "      <td>0.494159</td>\n",
       "      <td>0.0</td>\n",
       "      <td>0.49534</td>\n",
       "      <td>0.450086</td>\n",
       "      <td>0.0</td>\n",
       "      <td>0.0</td>\n",
       "      <td>0.447129</td>\n",
       "      <td>0.0</td>\n",
       "      <td>0.0</td>\n",
       "      <td>0.0</td>\n",
       "      <td>0.0</td>\n",
       "    </tr>\n",
       "    <tr>\n",
       "      <th>min</th>\n",
       "      <td>0.000000</td>\n",
       "      <td>0.0</td>\n",
       "      <td>0.00000</td>\n",
       "      <td>0.000000</td>\n",
       "      <td>0.0</td>\n",
       "      <td>0.0</td>\n",
       "      <td>0.000000</td>\n",
       "      <td>0.0</td>\n",
       "      <td>0.0</td>\n",
       "      <td>0.0</td>\n",
       "      <td>0.0</td>\n",
       "    </tr>\n",
       "    <tr>\n",
       "      <th>25%</th>\n",
       "      <td>0.000000</td>\n",
       "      <td>0.0</td>\n",
       "      <td>0.00000</td>\n",
       "      <td>0.000000</td>\n",
       "      <td>0.0</td>\n",
       "      <td>0.0</td>\n",
       "      <td>0.000000</td>\n",
       "      <td>0.0</td>\n",
       "      <td>0.0</td>\n",
       "      <td>0.0</td>\n",
       "      <td>0.0</td>\n",
       "    </tr>\n",
       "    <tr>\n",
       "      <th>50%</th>\n",
       "      <td>0.000000</td>\n",
       "      <td>0.0</td>\n",
       "      <td>0.00000</td>\n",
       "      <td>0.000000</td>\n",
       "      <td>0.0</td>\n",
       "      <td>0.0</td>\n",
       "      <td>0.000000</td>\n",
       "      <td>0.0</td>\n",
       "      <td>0.0</td>\n",
       "      <td>0.0</td>\n",
       "      <td>0.0</td>\n",
       "    </tr>\n",
       "    <tr>\n",
       "      <th>75%</th>\n",
       "      <td>1.000000</td>\n",
       "      <td>0.0</td>\n",
       "      <td>1.00000</td>\n",
       "      <td>1.000000</td>\n",
       "      <td>0.0</td>\n",
       "      <td>0.0</td>\n",
       "      <td>1.000000</td>\n",
       "      <td>0.0</td>\n",
       "      <td>0.0</td>\n",
       "      <td>0.0</td>\n",
       "      <td>0.0</td>\n",
       "    </tr>\n",
       "    <tr>\n",
       "      <th>max</th>\n",
       "      <td>1.000000</td>\n",
       "      <td>0.0</td>\n",
       "      <td>1.00000</td>\n",
       "      <td>1.000000</td>\n",
       "      <td>0.0</td>\n",
       "      <td>0.0</td>\n",
       "      <td>1.000000</td>\n",
       "      <td>0.0</td>\n",
       "      <td>0.0</td>\n",
       "      <td>0.0</td>\n",
       "      <td>0.0</td>\n",
       "    </tr>\n",
       "  </tbody>\n",
       "</table>\n",
       "</div>"
      ],
      "text/plain": [
       "          ChildBks  YouthBks     CookBks     DoItYBks  RefBks  ArtBks  \\\n",
       "count  2000.000000    1505.0  2000.00000  2000.000000  1571.0  1518.0   \n",
       "mean      0.423000       0.0     0.43100     0.282000     0.0     0.0   \n",
       "std       0.494159       0.0     0.49534     0.450086     0.0     0.0   \n",
       "min       0.000000       0.0     0.00000     0.000000     0.0     0.0   \n",
       "25%       0.000000       0.0     0.00000     0.000000     0.0     0.0   \n",
       "50%       0.000000       0.0     0.00000     0.000000     0.0     0.0   \n",
       "75%       1.000000       0.0     1.00000     1.000000     0.0     0.0   \n",
       "max       1.000000       0.0     1.00000     1.000000     0.0     0.0   \n",
       "\n",
       "           GeogBks  ItalCook  ItalAtlas  ItalArt  Florence  \n",
       "count  2000.000000    1773.0     1926.0   1903.0    1783.0  \n",
       "mean      0.276000       0.0        0.0      0.0       0.0  \n",
       "std       0.447129       0.0        0.0      0.0       0.0  \n",
       "min       0.000000       0.0        0.0      0.0       0.0  \n",
       "25%       0.000000       0.0        0.0      0.0       0.0  \n",
       "50%       0.000000       0.0        0.0      0.0       0.0  \n",
       "75%       1.000000       0.0        0.0      0.0       0.0  \n",
       "max       1.000000       0.0        0.0      0.0       0.0  "
      ]
     },
     "execution_count": 28,
     "metadata": {},
     "output_type": "execute_result"
    }
   ],
   "source": [
    "book.describe()\n",
    "#there is no need of normalization because all \n",
    "#values is between 0 to 1\n"
   ]
  },
  {
   "cell_type": "code",
   "execution_count": 29,
   "id": "d623bcae-fce8-4e89-b197-5e3199cd5d9a",
   "metadata": {},
   "outputs": [
    {
     "data": {
      "text/plain": [
       "ChildBks       0\n",
       "YouthBks     495\n",
       "CookBks        0\n",
       "DoItYBks       0\n",
       "RefBks       429\n",
       "ArtBks       482\n",
       "GeogBks        0\n",
       "ItalCook     227\n",
       "ItalAtlas     74\n",
       "ItalArt       97\n",
       "Florence     217\n",
       "dtype: int64"
      ]
     },
     "execution_count": 29,
     "metadata": {},
     "output_type": "execute_result"
    }
   ],
   "source": [
    "book.isna().sum()"
   ]
  },
  {
   "cell_type": "code",
   "execution_count": 32,
   "id": "651f209c-3606-48ec-9e03-51e9be37bb92",
   "metadata": {},
   "outputs": [],
   "source": [
    "#now here nan value is present\n",
    "#we can remove it by mean imputation\n",
    "book.fillna(book.mean(), inplace=True)"
   ]
  },
  {
   "cell_type": "code",
   "execution_count": 33,
   "id": "b64c9996-d820-4667-af96-1f63d47c388b",
   "metadata": {},
   "outputs": [
    {
     "data": {
      "text/plain": [
       "ChildBks     0\n",
       "YouthBks     0\n",
       "CookBks      0\n",
       "DoItYBks     0\n",
       "RefBks       0\n",
       "ArtBks       0\n",
       "GeogBks      0\n",
       "ItalCook     0\n",
       "ItalAtlas    0\n",
       "ItalArt      0\n",
       "Florence     0\n",
       "dtype: int64"
      ]
     },
     "execution_count": 33,
     "metadata": {},
     "output_type": "execute_result"
    }
   ],
   "source": [
    "book.isna().sum()\n",
    "#now there is no any nan value\n"
   ]
  },
  {
   "cell_type": "markdown",
   "id": "29e5be13-c57b-465c-9ee6-42e33cb865b2",
   "metadata": {},
   "source": [
    "Association Rule:"
   ]
  },
  {
   "cell_type": "code",
   "execution_count": 35,
   "id": "e9ec7b4e-cb83-4a84-92b7-51cf4025c782",
   "metadata": {},
   "outputs": [],
   "source": [
    "#step1:convert the dataset into a format suitable for Apriori \n",
    "a = TransactionEncoder()\n",
    "k = a.fit_transform(book)\n",
    "book1 = pd.DataFrame(k,columns=a.columns_)\n"
   ]
  },
  {
   "cell_type": "code",
   "execution_count": 36,
   "id": "d6aaf3c1-2604-464d-9108-e5876d06fa00",
   "metadata": {},
   "outputs": [
    {
     "name": "stdout",
     "output_type": "stream",
     "text": [
      "Empty DataFrame\n",
      "Columns: [support, itemsets]\n",
      "Index: []\n",
      "min_support=0.05, number of frequent itemsets: 0\n",
      "min_support=0.04, number of frequent itemsets: 0\n",
      "min_support=0.03, number of frequent itemsets: 0\n",
      "min_support=0.02, number of frequent itemsets: 0\n",
      "min_support=0.01, number of frequent itemsets: 0\n"
     ]
    }
   ],
   "source": [
    "#step2:Apply the Apriori algorithm to find frequent itemsets\n",
    "frequent = apriori(book1,min_support=0.005,use_colnames=True) \n",
    "print(frequent)\n",
    "for support in [0.05, 0.04, 0.03, 0.02, 0.01]:\n",
    "    frequent = apriori(book1, min_support=support, use_colnames=True)\n",
    "    print(f\"min_support={support}, number of frequent itemsets: {len(frequent)}\")\n"
   ]
  },
  {
   "cell_type": "code",
   "execution_count": 37,
   "id": "47aaa20a-a9dc-4b69-bb04-4f4351055dd3",
   "metadata": {},
   "outputs": [
    {
     "name": "stdout",
     "output_type": "stream",
     "text": [
      "Item Frequencies:\n",
      " s    8\n",
      "k    8\n",
      "B    7\n",
      "t    6\n",
      "o    6\n",
      "l    5\n",
      "I    4\n",
      "A    3\n",
      "r    3\n",
      "e    3\n",
      "a    3\n",
      "C    3\n",
      "h    2\n",
      "Y    2\n",
      "c    1\n",
      "d    1\n",
      "f    1\n",
      "g    1\n",
      "i    1\n",
      "R    1\n",
      "n    1\n",
      "G    1\n",
      "F    1\n",
      "D    1\n",
      "u    1\n",
      "dtype: int64\n"
     ]
    },
    {
     "data": {
      "image/png": "[encoded data removed]",
      "text/plain": [
       "<Figure size 1200x600 with 1 Axes>"
      ]
     },
     "metadata": {},
     "output_type": "display_data"
    }
   ],
   "source": [
    "item_frequencies = book1.sum().sort_values(ascending=False)\n",
    "print(\"Item Frequencies:\\n\", item_frequencies)\n",
    "plt.figure(figsize=(12, 6))\n",
    "sns.barplot(x=item_frequencies.index, y=item_frequencies.values)\n",
    "plt.xticks(rotation=45)\n",
    "plt.xlabel('Items')\n",
    "plt.ylabel('Frequency')\n",
    "plt.title('Item Frequencies')\n",
    "plt.show()"
   ]
  },
  {
   "cell_type": "code",
   "execution_count": 38,
   "id": "48e8f479-6b69-406c-b51d-73a587a7a8d0",
   "metadata": {},
   "outputs": [],
   "source": [
    "# Load your data (already done)\n",
    "df = pd.read_csv(\"C:/Assignments(DS)/book.csv\")  # Update with your file path if needed\n"
   ]
  },
  {
   "cell_type": "code",
   "execution_count": 39,
   "id": "08ae8b61-fc6d-427f-b9cb-7b3e24d23c96",
   "metadata": {},
   "outputs": [
    {
     "name": "stderr",
     "output_type": "stream",
     "text": [
      "C:\\Users\\om\\anaconda3\\Lib\\site-packages\\mlxtend\\frequent_patterns\\fpcommon.py:109: DeprecationWarning: DataFrames with non-bool types result in worse computationalperformance and their support might be discontinued in the future.Please use a DataFrame with bool type\n",
      "  warnings.warn(\n"
     ]
    }
   ],
   "source": [
    "# Apply the Apriori algorithm\n",
    "frequent_itemsets = apriori(df, min_support=0.05, use_colnames=True)\n"
   ]
  },
  {
   "cell_type": "code",
   "execution_count": 40,
   "id": "8bae4118-4848-4b7f-81b3-4b5038221ab9",
   "metadata": {},
   "outputs": [
    {
     "name": "stdout",
     "output_type": "stream",
     "text": [
      "    support                                          itemsets\n",
      "0    0.4230                                        (ChildBks)\n",
      "1    0.2475                                        (YouthBks)\n",
      "2    0.4310                                         (CookBks)\n",
      "3    0.2820                                        (DoItYBks)\n",
      "4    0.2145                                          (RefBks)\n",
      "..      ...                                               ...\n",
      "95   0.0600            (YouthBks, GeogBks, DoItYBks, CookBks)\n",
      "96   0.0560              (ArtBks, YouthBks, GeogBks, CookBks)\n",
      "97   0.0650              (ArtBks, GeogBks, DoItYBks, CookBks)\n",
      "98   0.0510  (DoItYBks, GeogBks, CookBks, ChildBks, YouthBks)\n",
      "99   0.0535    (DoItYBks, GeogBks, CookBks, ChildBks, ArtBks)\n",
      "\n",
      "[100 rows x 2 columns]\n"
     ]
    }
   ],
   "source": [
    "# View the frequent itemsets\n",
    "print(frequent_itemsets)\n"
   ]
  },
  {
   "cell_type": "code",
   "execution_count": 41,
   "id": "8898788b-1951-4a4a-8279-c7c4ef215cd7",
   "metadata": {},
   "outputs": [
    {
     "name": "stdout",
     "output_type": "stream",
     "text": [
      "    antecedents                             consequents  support  confidence\n",
      "0    (ChildBks)                              (YouthBks)   0.1650    0.390071\n",
      "1    (YouthBks)                              (ChildBks)   0.1650    0.666667\n",
      "2    (ChildBks)                               (CookBks)   0.2560    0.605201\n",
      "3     (CookBks)                              (ChildBks)   0.2560    0.593968\n",
      "4    (ChildBks)                              (DoItYBks)   0.1840    0.434988\n",
      "..          ...                                     ...      ...         ...\n",
      "657  (DoItYBks)    (ChildBks, GeogBks, ArtBks, CookBks)   0.0535    0.189716\n",
      "658   (GeogBks)   (ChildBks, ArtBks, DoItYBks, CookBks)   0.0535    0.193841\n",
      "659   (CookBks)   (ChildBks, ArtBks, GeogBks, DoItYBks)   0.0535    0.124130\n",
      "660  (ChildBks)    (ArtBks, GeogBks, DoItYBks, CookBks)   0.0535    0.126478\n",
      "661    (ArtBks)  (ChildBks, GeogBks, DoItYBks, CookBks)   0.0535    0.221992\n",
      "\n",
      "[662 rows x 4 columns]\n"
     ]
    }
   ],
   "source": [
    "# Generate the association rules\n",
    "rules = association_rules(frequent_itemsets, metric=\"lift\", min_threshold=1)\n",
    "# print(rules)\n",
    "print(rules[['antecedents','consequents','support','confidence']])"
   ]
  },
  {
   "cell_type": "markdown",
   "id": "e0dfb039-cd91-4597-9a7c-23a016760df2",
   "metadata": {},
   "source": [
    "Benifit:\n",
    "\n",
    "\n",
    "Benifit to customer:\n",
    "\n",
    "Using association rules helps businesses better understand customer \n",
    "purchasing patterns, enabling more informed decisions in marketing, promotions,\n",
    "and product recommendations. This can lead to increased sales, better customer engagement, \n",
    "and optimized inventory management.\n",
    "\n"
   ]
  },
  {
   "cell_type": "code",
   "execution_count": null,
   "id": "e6fb97e2-7c47-46a9-9109-5e24d4a7ecfa",
   "metadata": {},
   "outputs": [],
   "source": []
  }
 ],
 "metadata": {
  "kernelspec": {
   "display_name": "Python 3 (ipykernel)",
   "language": "python",
   "name": "python3"
  },
  "language_info": {
   "codemirror_mode": {
    "name": "ipython",
    "version": 3
   },
   "file_extension": ".py",
   "mimetype": "text/x-python",
   "name": "python",
   "nbconvert_exporter": "python",
   "pygments_lexer": "ipython3",
   "version": "3.11.7"
  }
 },
 "nbformat": 4,
 "nbformat_minor": 5
}
