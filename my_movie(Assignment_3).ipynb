{
 "cells": [
  {
   "cell_type": "markdown",
   "id": "5ae1b0c9-51e2-4f82-a873-37b29b54be1d",
   "metadata": {},
   "source": [
    "Problem Statement: - \n",
    "\n",
    "A film distribution company wants to target audience based on their likes and dislikes, you as a Chief Data Scientist Analyze the data \n",
    "and come up with different rules of movie list so that the business objective is achieved.\n"
   ]
  },
  {
   "cell_type": "markdown",
   "id": "108cb94a-9f5c-433d-96e2-b83b5c9e688f",
   "metadata": {},
   "source": [
    "Business Objectives:\n",
    "\n",
    "1)Find the pattern of viewers which movie they mostly see. Give prefrence for director or actor.\n",
    "2)Find which movie they like to see like comedy, horrible, romantic, etc..\n",
    "3)Recommend the movies according to viewers choice.\n",
    "4)So that sales of movies is also increase and viewers also get movies according to them."
   ]
  },
  {
   "cell_type": "code",
   "execution_count": 42,
   "id": "b63382bb-d649-4873-a2f7-21359640cf6e",
   "metadata": {},
   "outputs": [],
   "source": [
    "#import necessary libraries\n",
    "import pandas as pd\n",
    "import numpy as np\n",
    "import seaborn as sns\n",
    "import matplotlib.pyplot as plt\n",
    "from mlxtend.frequent_patterns import apriori,association_rules\n",
    "from mlxtend.preprocessing import TransactionEncoder"
   ]
  },
  {
   "cell_type": "code",
   "execution_count": 3,
   "id": "da0eb669-b08b-4ae7-b8c2-372ab5ec9f2d",
   "metadata": {},
   "outputs": [],
   "source": [
    "movie = pd.read_csv(\"C:/Assignments(DS)/my_movies.csv\")"
   ]
  },
  {
   "cell_type": "markdown",
   "id": "c67c6bcd-d08d-42fc-9067-7db528728e60",
   "metadata": {},
   "source": [
    "Exploratory Data Analysis (EDA)"
   ]
  },
  {
   "cell_type": "code",
   "execution_count": 4,
   "id": "a36dac5b-2746-4939-b56b-bd28fcf7599b",
   "metadata": {},
   "outputs": [
    {
     "data": {
      "text/plain": [
       "(10, 10)"
      ]
     },
     "execution_count": 4,
     "metadata": {},
     "output_type": "execute_result"
    }
   ],
   "source": [
    "movie.shape\n",
    "#10 rows and 10 columns"
   ]
  },
  {
   "cell_type": "code",
   "execution_count": 5,
   "id": "de57235d-c8dd-4a55-9758-e9de7d431420",
   "metadata": {},
   "outputs": [
    {
     "data": {
      "text/plain": [
       "Index(['Sixth Sense', 'Gladiator', 'LOTR1', 'Harry Potter1', 'Patriot',\n",
       "       'LOTR2', 'Harry Potter2', 'LOTR', 'Braveheart', 'Green Mile'],\n",
       "      dtype='object')"
      ]
     },
     "execution_count": 5,
     "metadata": {},
     "output_type": "execute_result"
    }
   ],
   "source": [
    "movie.columns"
   ]
  },
  {
   "cell_type": "code",
   "execution_count": 6,
   "id": "03d41659-7191-466b-b887-d12a3caaff2a",
   "metadata": {},
   "outputs": [
    {
     "data": {
      "text/plain": [
       "Sixth Sense      int64\n",
       "Gladiator        int64\n",
       "LOTR1            int64\n",
       "Harry Potter1    int64\n",
       "Patriot          int64\n",
       "LOTR2            int64\n",
       "Harry Potter2    int64\n",
       "LOTR             int64\n",
       "Braveheart       int64\n",
       "Green Mile       int64\n",
       "dtype: object"
      ]
     },
     "execution_count": 6,
     "metadata": {},
     "output_type": "execute_result"
    }
   ],
   "source": [
    "movie.dtypes\n",
    "#all columns datatypes are in integer"
   ]
  },
  {
   "cell_type": "code",
   "execution_count": 7,
   "id": "519f198d-3f63-4361-a112-fa962028cdae",
   "metadata": {},
   "outputs": [
    {
     "data": {
      "text/plain": [
       "Sixth Sense      0\n",
       "Gladiator        0\n",
       "LOTR1            0\n",
       "Harry Potter1    0\n",
       "Patriot          0\n",
       "LOTR2            0\n",
       "Harry Potter2    0\n",
       "LOTR             0\n",
       "Braveheart       0\n",
       "Green Mile       0\n",
       "dtype: int64"
      ]
     },
     "execution_count": 7,
     "metadata": {},
     "output_type": "execute_result"
    }
   ],
   "source": [
    "movie.isnull().sum()\n",
    "#there is no any null value"
   ]
  },
  {
   "cell_type": "code",
   "execution_count": 8,
   "id": "ce94a61b-2a9b-4bfa-ba5c-20f1a2d61eff",
   "metadata": {},
   "outputs": [
    {
     "data": {
      "text/html": [
       "<div>\n",
       "<style scoped>\n",
       "    .dataframe tbody tr th:only-of-type {\n",
       "        vertical-align: middle;\n",
       "    }\n",
       "\n",
       "    .dataframe tbody tr th {\n",
       "        vertical-align: top;\n",
       "    }\n",
       "\n",
       "    .dataframe thead th {\n",
       "        text-align: right;\n",
       "    }\n",
       "</style>\n",
       "<table border=\"1\" class=\"dataframe\">\n",
       "  <thead>\n",
       "    <tr style=\"text-align: right;\">\n",
       "      <th></th>\n",
       "      <th>Sixth Sense</th>\n",
       "      <th>Gladiator</th>\n",
       "      <th>LOTR1</th>\n",
       "      <th>Harry Potter1</th>\n",
       "      <th>Patriot</th>\n",
       "      <th>LOTR2</th>\n",
       "      <th>Harry Potter2</th>\n",
       "      <th>LOTR</th>\n",
       "      <th>Braveheart</th>\n",
       "      <th>Green Mile</th>\n",
       "    </tr>\n",
       "  </thead>\n",
       "  <tbody>\n",
       "    <tr>\n",
       "      <th>0</th>\n",
       "      <td>1</td>\n",
       "      <td>0</td>\n",
       "      <td>1</td>\n",
       "      <td>1</td>\n",
       "      <td>0</td>\n",
       "      <td>1</td>\n",
       "      <td>0</td>\n",
       "      <td>0</td>\n",
       "      <td>0</td>\n",
       "      <td>1</td>\n",
       "    </tr>\n",
       "    <tr>\n",
       "      <th>1</th>\n",
       "      <td>0</td>\n",
       "      <td>1</td>\n",
       "      <td>0</td>\n",
       "      <td>0</td>\n",
       "      <td>1</td>\n",
       "      <td>0</td>\n",
       "      <td>0</td>\n",
       "      <td>0</td>\n",
       "      <td>1</td>\n",
       "      <td>0</td>\n",
       "    </tr>\n",
       "    <tr>\n",
       "      <th>2</th>\n",
       "      <td>0</td>\n",
       "      <td>0</td>\n",
       "      <td>1</td>\n",
       "      <td>0</td>\n",
       "      <td>0</td>\n",
       "      <td>1</td>\n",
       "      <td>0</td>\n",
       "      <td>0</td>\n",
       "      <td>0</td>\n",
       "      <td>0</td>\n",
       "    </tr>\n",
       "    <tr>\n",
       "      <th>3</th>\n",
       "      <td>1</td>\n",
       "      <td>1</td>\n",
       "      <td>0</td>\n",
       "      <td>0</td>\n",
       "      <td>1</td>\n",
       "      <td>0</td>\n",
       "      <td>0</td>\n",
       "      <td>0</td>\n",
       "      <td>0</td>\n",
       "      <td>0</td>\n",
       "    </tr>\n",
       "    <tr>\n",
       "      <th>4</th>\n",
       "      <td>1</td>\n",
       "      <td>1</td>\n",
       "      <td>0</td>\n",
       "      <td>0</td>\n",
       "      <td>1</td>\n",
       "      <td>0</td>\n",
       "      <td>0</td>\n",
       "      <td>0</td>\n",
       "      <td>0</td>\n",
       "      <td>0</td>\n",
       "    </tr>\n",
       "  </tbody>\n",
       "</table>\n",
       "</div>"
      ],
      "text/plain": [
       "   Sixth Sense  Gladiator  LOTR1  Harry Potter1  Patriot  LOTR2  \\\n",
       "0            1          0      1              1        0      1   \n",
       "1            0          1      0              0        1      0   \n",
       "2            0          0      1              0        0      1   \n",
       "3            1          1      0              0        1      0   \n",
       "4            1          1      0              0        1      0   \n",
       "\n",
       "   Harry Potter2  LOTR  Braveheart  Green Mile  \n",
       "0              0     0           0           1  \n",
       "1              0     0           1           0  \n",
       "2              0     0           0           0  \n",
       "3              0     0           0           0  \n",
       "4              0     0           0           0  "
      ]
     },
     "execution_count": 8,
     "metadata": {},
     "output_type": "execute_result"
    }
   ],
   "source": [
    "movie.head()"
   ]
  },
  {
   "cell_type": "code",
   "execution_count": 9,
   "id": "85f6c144-a1ad-46b2-8b88-91ac722cc594",
   "metadata": {},
   "outputs": [
    {
     "data": {
      "text/html": [
       "<div>\n",
       "<style scoped>\n",
       "    .dataframe tbody tr th:only-of-type {\n",
       "        vertical-align: middle;\n",
       "    }\n",
       "\n",
       "    .dataframe tbody tr th {\n",
       "        vertical-align: top;\n",
       "    }\n",
       "\n",
       "    .dataframe thead th {\n",
       "        text-align: right;\n",
       "    }\n",
       "</style>\n",
       "<table border=\"1\" class=\"dataframe\">\n",
       "  <thead>\n",
       "    <tr style=\"text-align: right;\">\n",
       "      <th></th>\n",
       "      <th>Sixth Sense</th>\n",
       "      <th>Gladiator</th>\n",
       "      <th>LOTR1</th>\n",
       "      <th>Harry Potter1</th>\n",
       "      <th>Patriot</th>\n",
       "      <th>LOTR2</th>\n",
       "      <th>Harry Potter2</th>\n",
       "      <th>LOTR</th>\n",
       "      <th>Braveheart</th>\n",
       "      <th>Green Mile</th>\n",
       "    </tr>\n",
       "  </thead>\n",
       "  <tbody>\n",
       "    <tr>\n",
       "      <th>count</th>\n",
       "      <td>10.000000</td>\n",
       "      <td>10.000000</td>\n",
       "      <td>10.000000</td>\n",
       "      <td>10.000000</td>\n",
       "      <td>10.000000</td>\n",
       "      <td>10.000000</td>\n",
       "      <td>10.000000</td>\n",
       "      <td>10.000000</td>\n",
       "      <td>10.000000</td>\n",
       "      <td>10.000000</td>\n",
       "    </tr>\n",
       "    <tr>\n",
       "      <th>mean</th>\n",
       "      <td>0.600000</td>\n",
       "      <td>0.700000</td>\n",
       "      <td>0.200000</td>\n",
       "      <td>0.200000</td>\n",
       "      <td>0.600000</td>\n",
       "      <td>0.200000</td>\n",
       "      <td>0.100000</td>\n",
       "      <td>0.100000</td>\n",
       "      <td>0.100000</td>\n",
       "      <td>0.200000</td>\n",
       "    </tr>\n",
       "    <tr>\n",
       "      <th>std</th>\n",
       "      <td>0.516398</td>\n",
       "      <td>0.483046</td>\n",
       "      <td>0.421637</td>\n",
       "      <td>0.421637</td>\n",
       "      <td>0.516398</td>\n",
       "      <td>0.421637</td>\n",
       "      <td>0.316228</td>\n",
       "      <td>0.316228</td>\n",
       "      <td>0.316228</td>\n",
       "      <td>0.421637</td>\n",
       "    </tr>\n",
       "    <tr>\n",
       "      <th>min</th>\n",
       "      <td>0.000000</td>\n",
       "      <td>0.000000</td>\n",
       "      <td>0.000000</td>\n",
       "      <td>0.000000</td>\n",
       "      <td>0.000000</td>\n",
       "      <td>0.000000</td>\n",
       "      <td>0.000000</td>\n",
       "      <td>0.000000</td>\n",
       "      <td>0.000000</td>\n",
       "      <td>0.000000</td>\n",
       "    </tr>\n",
       "    <tr>\n",
       "      <th>25%</th>\n",
       "      <td>0.000000</td>\n",
       "      <td>0.250000</td>\n",
       "      <td>0.000000</td>\n",
       "      <td>0.000000</td>\n",
       "      <td>0.000000</td>\n",
       "      <td>0.000000</td>\n",
       "      <td>0.000000</td>\n",
       "      <td>0.000000</td>\n",
       "      <td>0.000000</td>\n",
       "      <td>0.000000</td>\n",
       "    </tr>\n",
       "    <tr>\n",
       "      <th>50%</th>\n",
       "      <td>1.000000</td>\n",
       "      <td>1.000000</td>\n",
       "      <td>0.000000</td>\n",
       "      <td>0.000000</td>\n",
       "      <td>1.000000</td>\n",
       "      <td>0.000000</td>\n",
       "      <td>0.000000</td>\n",
       "      <td>0.000000</td>\n",
       "      <td>0.000000</td>\n",
       "      <td>0.000000</td>\n",
       "    </tr>\n",
       "    <tr>\n",
       "      <th>75%</th>\n",
       "      <td>1.000000</td>\n",
       "      <td>1.000000</td>\n",
       "      <td>0.000000</td>\n",
       "      <td>0.000000</td>\n",
       "      <td>1.000000</td>\n",
       "      <td>0.000000</td>\n",
       "      <td>0.000000</td>\n",
       "      <td>0.000000</td>\n",
       "      <td>0.000000</td>\n",
       "      <td>0.000000</td>\n",
       "    </tr>\n",
       "    <tr>\n",
       "      <th>max</th>\n",
       "      <td>1.000000</td>\n",
       "      <td>1.000000</td>\n",
       "      <td>1.000000</td>\n",
       "      <td>1.000000</td>\n",
       "      <td>1.000000</td>\n",
       "      <td>1.000000</td>\n",
       "      <td>1.000000</td>\n",
       "      <td>1.000000</td>\n",
       "      <td>1.000000</td>\n",
       "      <td>1.000000</td>\n",
       "    </tr>\n",
       "  </tbody>\n",
       "</table>\n",
       "</div>"
      ],
      "text/plain": [
       "       Sixth Sense  Gladiator      LOTR1  Harry Potter1    Patriot      LOTR2  \\\n",
       "count    10.000000  10.000000  10.000000      10.000000  10.000000  10.000000   \n",
       "mean      0.600000   0.700000   0.200000       0.200000   0.600000   0.200000   \n",
       "std       0.516398   0.483046   0.421637       0.421637   0.516398   0.421637   \n",
       "min       0.000000   0.000000   0.000000       0.000000   0.000000   0.000000   \n",
       "25%       0.000000   0.250000   0.000000       0.000000   0.000000   0.000000   \n",
       "50%       1.000000   1.000000   0.000000       0.000000   1.000000   0.000000   \n",
       "75%       1.000000   1.000000   0.000000       0.000000   1.000000   0.000000   \n",
       "max       1.000000   1.000000   1.000000       1.000000   1.000000   1.000000   \n",
       "\n",
       "       Harry Potter2       LOTR  Braveheart  Green Mile  \n",
       "count      10.000000  10.000000   10.000000   10.000000  \n",
       "mean        0.100000   0.100000    0.100000    0.200000  \n",
       "std         0.316228   0.316228    0.316228    0.421637  \n",
       "min         0.000000   0.000000    0.000000    0.000000  \n",
       "25%         0.000000   0.000000    0.000000    0.000000  \n",
       "50%         0.000000   0.000000    0.000000    0.000000  \n",
       "75%         0.000000   0.000000    0.000000    0.000000  \n",
       "max         1.000000   1.000000    1.000000    1.000000  "
      ]
     },
     "execution_count": 9,
     "metadata": {},
     "output_type": "execute_result"
    }
   ],
   "source": [
    "movie.describe()\n",
    "#there is no large differnce between min, max, std hence there is no need of normalization."
   ]
  },
  {
   "cell_type": "markdown",
   "id": "7247eab2-aa3a-4fff-9571-23cc2537c8f1",
   "metadata": {},
   "source": [
    "Data Pre-Processing"
   ]
  },
  {
   "cell_type": "code",
   "execution_count": 10,
   "id": "ff654f33-499a-4821-a100-d7f5967d889d",
   "metadata": {},
   "outputs": [],
   "source": [
    "#We check outlier of each column"
   ]
  },
  {
   "cell_type": "code",
   "execution_count": 11,
   "id": "1d008602-31e3-44ea-9027-3d78cb82ebb2",
   "metadata": {},
   "outputs": [
    {
     "data": {
      "text/plain": [
       "<Axes: >"
      ]
     },
     "execution_count": 11,
     "metadata": {},
     "output_type": "execute_result"
    },
    {
     "data": {
      "image/png": "[encoded data removed]",
      "text/plain": [
       "<Figure size 640x480 with 1 Axes>"
      ]
     },
     "metadata": {},
     "output_type": "display_data"
    }
   ],
   "source": [
    "sns.boxplot(movie['Sixth Sense'])\n",
    "#no outlier"
   ]
  },
  {
   "cell_type": "code",
   "execution_count": 12,
   "id": "5acd4f4e-788e-47a3-8eee-0fd243b64d5b",
   "metadata": {},
   "outputs": [
    {
     "data": {
      "text/plain": [
       "<Axes: >"
      ]
     },
     "execution_count": 12,
     "metadata": {},
     "output_type": "execute_result"
    },
    {
     "data": {
      "image/png": "[encoded data removed]",
      "text/plain": [
       "<Figure size 640x480 with 1 Axes>"
      ]
     },
     "metadata": {},
     "output_type": "display_data"
    }
   ],
   "source": [
    "sns.boxplot(movie['Gladiator'])\n",
    "#no outlier"
   ]
  },
  {
   "cell_type": "code",
   "execution_count": 13,
   "id": "824bd370-5116-4474-b2a4-b21c7f5d187d",
   "metadata": {},
   "outputs": [
    {
     "data": {
      "text/plain": [
       "<Axes: >"
      ]
     },
     "execution_count": 13,
     "metadata": {},
     "output_type": "execute_result"
    },
    {
     "data": {
      "image/png": "[encoded data removed]",
      "text/plain": [
       "<Figure size 640x480 with 1 Axes>"
      ]
     },
     "metadata": {},
     "output_type": "display_data"
    }
   ],
   "source": [
    "sns.boxplot(movie['Gladiator'])\n",
    "#no outlier"
   ]
  },
  {
   "cell_type": "code",
   "execution_count": 14,
   "id": "d869480f-5b09-484f-8c4f-f6dd0a5d93e9",
   "metadata": {},
   "outputs": [
    {
     "data": {
      "text/plain": [
       "<Axes: >"
      ]
     },
     "execution_count": 14,
     "metadata": {},
     "output_type": "execute_result"
    },
    {
     "data": {
      "image/png": "[encoded data removed]",
      "text/plain": [
       "<Figure size 640x480 with 1 Axes>"
      ]
     },
     "metadata": {},
     "output_type": "display_data"
    }
   ],
   "source": [
    "sns.boxplot(movie['LOTR1'])\n",
    "#outlier is present "
   ]
  },
  {
   "cell_type": "code",
   "execution_count": 15,
   "id": "bc69e578-5182-45a4-b614-7f1700785f01",
   "metadata": {},
   "outputs": [
    {
     "data": {
      "text/plain": [
       "<Axes: >"
      ]
     },
     "execution_count": 15,
     "metadata": {},
     "output_type": "execute_result"
    },
    {
     "data": {
      "image/png": "[encoded data removed]",
      "text/plain": [
       "<Figure size 640x480 with 1 Axes>"
      ]
     },
     "metadata": {},
     "output_type": "display_data"
    }
   ],
   "source": [
    "sns.boxplot(movie['Harry Potter1'])\n",
    "#outlier\n"
   ]
  },
  {
   "cell_type": "code",
   "execution_count": 16,
   "id": "eccde257-cae9-44d8-a5f0-cfe560f00ab2",
   "metadata": {},
   "outputs": [
    {
     "data": {
      "text/plain": [
       "<Axes: >"
      ]
     },
     "execution_count": 16,
     "metadata": {},
     "output_type": "execute_result"
    },
    {
     "data": {
      "image/png": "[encoded data removed]",
      "text/plain": [
       "<Figure size 640x480 with 1 Axes>"
      ]
     },
     "metadata": {},
     "output_type": "display_data"
    }
   ],
   "source": [
    "sns.boxplot(movie['Patriot'])\n",
    "#no outlier"
   ]
  },
  {
   "cell_type": "code",
   "execution_count": 17,
   "id": "2b40b4c4-00b0-403f-8968-914233f61c68",
   "metadata": {},
   "outputs": [
    {
     "data": {
      "text/plain": [
       "<Axes: >"
      ]
     },
     "execution_count": 17,
     "metadata": {},
     "output_type": "execute_result"
    },
    {
     "data": {
      "image/png": "[encoded data removed]",
      "text/plain": [
       "<Figure size 640x480 with 1 Axes>"
      ]
     },
     "metadata": {},
     "output_type": "display_data"
    }
   ],
   "source": [
    "sns.boxplot(movie['LOTR2'])\n",
    "#outlier\n"
   ]
  },
  {
   "cell_type": "code",
   "execution_count": 18,
   "id": "b70ee8de-c184-479f-b2ff-95faae5f5b4d",
   "metadata": {},
   "outputs": [
    {
     "data": {
      "text/plain": [
       "<Axes: >"
      ]
     },
     "execution_count": 18,
     "metadata": {},
     "output_type": "execute_result"
    },
    {
     "data": {
      "image/png": "[encoded data removed]",
      "text/plain": [
       "<Figure size 640x480 with 1 Axes>"
      ]
     },
     "metadata": {},
     "output_type": "display_data"
    }
   ],
   "source": [
    "sns.boxplot(movie['Harry Potter2'])\n",
    "#outlier\n"
   ]
  },
  {
   "cell_type": "code",
   "execution_count": 19,
   "id": "cf9383e8-d6c4-43dc-878a-8f17cebd94e7",
   "metadata": {},
   "outputs": [
    {
     "data": {
      "text/plain": [
       "<Axes: >"
      ]
     },
     "execution_count": 19,
     "metadata": {},
     "output_type": "execute_result"
    },
    {
     "data": {
      "image/png": "[encoded data removed]",
      "text/plain": [
       "<Figure size 640x480 with 1 Axes>"
      ]
     },
     "metadata": {},
     "output_type": "display_data"
    }
   ],
   "source": [
    "sns.boxplot(movie['LOTR'])\n",
    "#outlier\n"
   ]
  },
  {
   "cell_type": "code",
   "execution_count": 20,
   "id": "bc06dd24-4090-49b0-b01f-63ce200e2f42",
   "metadata": {},
   "outputs": [
    {
     "data": {
      "text/plain": [
       "<Axes: >"
      ]
     },
     "execution_count": 20,
     "metadata": {},
     "output_type": "execute_result"
    },
    {
     "data": {
      "image/png": "[encoded data removed]",
      "text/plain": [
       "<Figure size 640x480 with 1 Axes>"
      ]
     },
     "metadata": {},
     "output_type": "display_data"
    }
   ],
   "source": [
    "sns.boxplot(movie['Braveheart'])\n",
    "#outlier\n"
   ]
  },
  {
   "cell_type": "code",
   "execution_count": 21,
   "id": "14cd446a-50fd-4bfd-9993-1153b82117a4",
   "metadata": {},
   "outputs": [
    {
     "data": {
      "text/plain": [
       "<Axes: >"
      ]
     },
     "execution_count": 21,
     "metadata": {},
     "output_type": "execute_result"
    },
    {
     "data": {
      "image/png": "[encoded data removed]",
      "text/plain": [
       "<Figure size 640x480 with 1 Axes>"
      ]
     },
     "metadata": {},
     "output_type": "display_data"
    }
   ],
   "source": [
    "sns.boxplot(movie['Green Mile'])\n",
    "#outlier\n"
   ]
  },
  {
   "cell_type": "code",
   "execution_count": 22,
   "id": "8eee1fc6-38c8-416d-89b2-6dd0fc8c0cee",
   "metadata": {},
   "outputs": [],
   "source": [
    "#fro above boxplot it is observe that \n",
    "#['LOTR1','Harry Potter1','LOTR2','Harry Potter2','LOTR','Braveheart','Green Mile'] this columns has outlier\n",
    "#this is remove by IQR technique"
   ]
  },
  {
   "cell_type": "code",
   "execution_count": 25,
   "id": "e1078679-e2e9-4536-8185-7097f705e51f",
   "metadata": {},
   "outputs": [
    {
     "data": {
      "text/plain": [
       "<Axes: >"
      ]
     },
     "execution_count": 25,
     "metadata": {},
     "output_type": "execute_result"
    },
    {
     "data": {
      "image/png": "[encoded data removed]",
      "text/plain": [
       "<Figure size 640x480 with 1 Axes>"
      ]
     },
     "metadata": {},
     "output_type": "display_data"
    }
   ],
   "source": [
    "#1)LOTR1\n",
    "#q1=0.25 percentile\n",
    "#q3=0.75 percentile\n",
    "q1 = movie['LOTR1'].quantile(0.25)\n",
    "q3 = movie['LOTR1'].quantile(0.75)\n",
    "iqr = q2-q1\n",
    "lower_limit = q1 - 1.5*(iqr)\n",
    "upper_limit = q3 + 1.5*(iqr)\n",
    "movie['LOTR1'] = movie.loc[(movie['LOTR1']>=lower_limit) & (movie['LOTR1']<=upper_limit), 'LOTR1']\n",
    "sns.boxplot(movie['LOTR1'])\n",
    "#again from box plot we can see that outlier has removed"
   ]
  },
  {
   "cell_type": "code",
   "execution_count": 26,
   "id": "ccec4ea8-d201-4d5e-b77f-920807b93675",
   "metadata": {},
   "outputs": [
    {
     "data": {
      "text/plain": [
       "<Axes: >"
      ]
     },
     "execution_count": 26,
     "metadata": {},
     "output_type": "execute_result"
    },
    {
     "data": {
      "image/png": "[encoded data removed]",
      "text/plain": [
       "<Figure size 640x480 with 1 Axes>"
      ]
     },
     "metadata": {},
     "output_type": "display_data"
    }
   ],
   "source": [
    "#2)Harry Potter1\n",
    "#q1=0.25 percentile\n",
    "#q3=0.75 percentile\n",
    "q1 = movie['Harry Potter1'].quantile(0.25)\n",
    "q3 = movie['Harry Potter1'].quantile(0.75)\n",
    "iqr = q2-q1\n",
    "lower_limit = q1 - 1.5*(iqr)\n",
    "upper_limit = q3 + 1.5*(iqr)\n",
    "movie['Harry Potter1'] = movie.loc[(movie['Harry Potter1']>=lower_limit) & (movie['Harry Potter1']<=upper_limit), 'Harry Potter1']\n",
    "sns.boxplot(movie['Harry Potter1'])\n",
    "#again from box plot we can see that outlier has removed"
   ]
  },
  {
   "cell_type": "code",
   "execution_count": 27,
   "id": "31081ae2-71a7-4820-8c15-f24594985bc1",
   "metadata": {},
   "outputs": [
    {
     "data": {
      "text/plain": [
       "<Axes: >"
      ]
     },
     "execution_count": 27,
     "metadata": {},
     "output_type": "execute_result"
    },
    {
     "data": {
      "image/png": "[encoded data removed]",
      "text/plain": [
       "<Figure size 640x480 with 1 Axes>"
      ]
     },
     "metadata": {},
     "output_type": "display_data"
    }
   ],
   "source": [
    "#3)LOTR2\n",
    "#q1=0.25 percentile\n",
    "#q3=0.75 percentile\n",
    "q1 = movie['LOTR2'].quantile(0.25)\n",
    "q3 = movie['LOTR2'].quantile(0.75)\n",
    "iqr = q2-q1\n",
    "lower_limit = q1 - 1.5*(iqr)\n",
    "upper_limit = q3 + 1.5*(iqr)\n",
    "movie['LOTR2'] = movie.loc[(movie['LOTR2']>=lower_limit) & (movie['LOTR2']<=upper_limit), 'LOTR2']\n",
    "sns.boxplot(movie['LOTR2'])\n",
    "#again from box plot we can see that outlier has removed"
   ]
  },
  {
   "cell_type": "code",
   "execution_count": 28,
   "id": "560071a0-7ae1-4a0d-83e8-08fe9bda215b",
   "metadata": {},
   "outputs": [
    {
     "data": {
      "text/plain": [
       "<Axes: >"
      ]
     },
     "execution_count": 28,
     "metadata": {},
     "output_type": "execute_result"
    },
    {
     "data": {
      "image/png": "[encoded data removed]",
      "text/plain": [
       "<Figure size 640x480 with 1 Axes>"
      ]
     },
     "metadata": {},
     "output_type": "display_data"
    }
   ],
   "source": [
    "#4)Harry Potter2\n",
    "#q1=0.25 percentile\n",
    "#q3=0.75 percentile\n",
    "q1 = movie['Harry Potter2'].quantile(0.25)\n",
    "q3 = movie['Harry Potter2'].quantile(0.75)\n",
    "iqr = q2-q1\n",
    "lower_limit = q1 - 1.5*(iqr)\n",
    "upper_limit = q3 + 1.5*(iqr)\n",
    "movie['Harry Potter2'] = movie.loc[(movie['Harry Potter2']>=lower_limit) & (movie['Harry Potter2']<=upper_limit), 'Harry Potter2']\n",
    "sns.boxplot(movie['Harry Potter2'])\n",
    "#again from box plot we can see that outlier has removed"
   ]
  },
  {
   "cell_type": "code",
   "execution_count": 29,
   "id": "76e1c975-8cf5-4fb6-91f3-e020c0dc6352",
   "metadata": {},
   "outputs": [
    {
     "data": {
      "text/plain": [
       "<Axes: >"
      ]
     },
     "execution_count": 29,
     "metadata": {},
     "output_type": "execute_result"
    },
    {
     "data": {
      "image/png": "[encoded data removed]",
      "text/plain": [
       "<Figure size 640x480 with 1 Axes>"
      ]
     },
     "metadata": {},
     "output_type": "display_data"
    }
   ],
   "source": [
    "#5)LOTR\n",
    "#q1=0.25 percentile\n",
    "#q3=0.75 percentile\n",
    "q1 = movie['LOTR'].quantile(0.25)\n",
    "q3 = movie['LOTR'].quantile(0.75)\n",
    "iqr = q2-q1\n",
    "lower_limit = q1 - 1.5*(iqr)\n",
    "upper_limit = q3 + 1.5*(iqr)\n",
    "movie['LOTR'] = movie.loc[(movie['LOTR']>=lower_limit) & (movie['LOTR']<=upper_limit), 'LOTR']\n",
    "sns.boxplot(movie['LOTR'])\n",
    "#again from box plot we can see that outlier has removed"
   ]
  },
  {
   "cell_type": "code",
   "execution_count": 30,
   "id": "5f5b7980-1939-419c-bbaf-59f6975e48cc",
   "metadata": {},
   "outputs": [
    {
     "data": {
      "text/plain": [
       "<Axes: >"
      ]
     },
     "execution_count": 30,
     "metadata": {},
     "output_type": "execute_result"
    },
    {
     "data": {
      "image/png": "[encoded data removed]",
      "text/plain": [
       "<Figure size 640x480 with 1 Axes>"
      ]
     },
     "metadata": {},
     "output_type": "display_data"
    }
   ],
   "source": [
    "#6)Braveheart \n",
    "#q1=0.25 percentile\n",
    "#q3=0.75 percentile\n",
    "q1 = movie['Braveheart'].quantile(0.25)\n",
    "q3 = movie['Braveheart'].quantile(0.75)\n",
    "iqr = q2-q1\n",
    "lower_limit = q1 - 1.5*(iqr)\n",
    "upper_limit = q3 + 1.5*(iqr)\n",
    "movie['Braveheart'] = movie.loc[(movie['Braveheart']>=lower_limit) & (movie['Braveheart']<=upper_limit), 'Braveheart']\n",
    "sns.boxplot(movie['Braveheart'])\n",
    "#again from box plot we can see that outlier has removed"
   ]
  },
  {
   "cell_type": "code",
   "execution_count": 31,
   "id": "229884c2-3906-4da3-af1b-2458f3773b53",
   "metadata": {},
   "outputs": [
    {
     "data": {
      "text/plain": [
       "<Axes: >"
      ]
     },
     "execution_count": 31,
     "metadata": {},
     "output_type": "execute_result"
    },
    {
     "data": {
      "image/png": "[encoded data removed]",
      "text/plain": [
       "<Figure size 640x480 with 1 Axes>"
      ]
     },
     "metadata": {},
     "output_type": "display_data"
    }
   ],
   "source": [
    "#7)Green Mile\n",
    "#q1=0.25 percentile\n",
    "#q3=0.75 percentile\n",
    "q1 = movie['Green Mile'].quantile(0.25)\n",
    "q3 = movie['Green Mile'].quantile(0.75)\n",
    "iqr = q2-q1\n",
    "lower_limit = q1 - 1.5*(iqr)\n",
    "upper_limit = q3 + 1.5*(iqr)\n",
    "movie['Green Mile'] = movie.loc[(movie['Green Mile']>=lower_limit) & (movie['Green Mile']<=upper_limit), 'Green Mile']\n",
    "sns.boxplot(movie['Green Mile'])\n",
    "#again from box plot we can see that outlier has removed"
   ]
  },
  {
   "cell_type": "code",
   "execution_count": 32,
   "id": "5aebe1c3-a635-444d-8001-71e0c2049c1f",
   "metadata": {},
   "outputs": [
    {
     "data": {
      "text/plain": [
       "Sixth Sense      0\n",
       "Gladiator        0\n",
       "LOTR1            2\n",
       "Harry Potter1    2\n",
       "Patriot          0\n",
       "LOTR2            2\n",
       "Harry Potter2    1\n",
       "LOTR             1\n",
       "Braveheart       1\n",
       "Green Mile       2\n",
       "dtype: int64"
      ]
     },
     "execution_count": 32,
     "metadata": {},
     "output_type": "execute_result"
    }
   ],
   "source": [
    "movie.isnull().sum()"
   ]
  },
  {
   "cell_type": "code",
   "execution_count": 33,
   "id": "f65e3e0e-694a-4063-80ef-ca948b1412c7",
   "metadata": {},
   "outputs": [],
   "source": [
    "#now here sum null value is generated \n",
    "#we can remove it by mean imputation\n",
    "movie.fillna(movie.mean(),inplace=True)"
   ]
  },
  {
   "cell_type": "code",
   "execution_count": 34,
   "id": "4994dece-53cd-49e0-93b0-9790d461b145",
   "metadata": {},
   "outputs": [
    {
     "data": {
      "text/plain": [
       "Sixth Sense      0\n",
       "Gladiator        0\n",
       "LOTR1            0\n",
       "Harry Potter1    0\n",
       "Patriot          0\n",
       "LOTR2            0\n",
       "Harry Potter2    0\n",
       "LOTR             0\n",
       "Braveheart       0\n",
       "Green Mile       0\n",
       "dtype: int64"
      ]
     },
     "execution_count": 34,
     "metadata": {},
     "output_type": "execute_result"
    }
   ],
   "source": [
    "movie.isnull().sum()\n",
    "#now there is no any null value present"
   ]
  },
  {
   "cell_type": "code",
   "execution_count": 36,
   "id": "d577e2d2-2887-4717-9a4a-362a53aa953d",
   "metadata": {},
   "outputs": [],
   "source": [
    "#step 1: convert the dataset into a format suitable for Apriori \n",
    "a = TransactionEncoder()\n",
    "k = a.fit_transform(movie)\n",
    "movie1 = pd.DataFrame(k,columns=a.columns_ )"
   ]
  },
  {
   "cell_type": "code",
   "execution_count": 38,
   "id": "e9ddf6c2-8054-48ac-ad74-c18fc7f8335f",
   "metadata": {},
   "outputs": [
    {
     "name": "stdout",
     "output_type": "stream",
     "text": [
      "min_support=0.05, number of frequent itemsets: 2669\n",
      "min_support=0.04, number of frequent itemsets: 2669\n",
      "min_support=0.03, number of frequent itemsets: 2669\n",
      "min_support=0.02, number of frequent itemsets: 2669\n",
      "min_support=0.01, number of frequent itemsets: 2669\n"
     ]
    }
   ],
   "source": [
    "#step 2: Apply apriori algorithm to find frequent itemset\n",
    "for support in [0.05,0.04,0.03,0.02,0.01]:\n",
    "    frequent = apriori(movie1, min_support=support, use_colnames=True)\n",
    "    print(f\"min_support={support}, number of frequent itemsets: {len(frequent)}\")"
   ]
  },
  {
   "cell_type": "code",
   "execution_count": 40,
   "id": "539af736-ceae-4297-bc4c-c0ace28170d5",
   "metadata": {},
   "outputs": [
    {
     "name": "stdout",
     "output_type": "stream",
     "text": [
      "Item Frequencies:\n",
      " t    6\n",
      "r    6\n",
      "a    5\n",
      "e    5\n",
      "o    4\n",
      "i    4\n",
      "     4\n",
      "O    3\n",
      "P    3\n",
      "R    3\n",
      "T    3\n",
      "L    3\n",
      "H    2\n",
      "2    2\n",
      "G    2\n",
      "n    2\n",
      "l    2\n",
      "y    2\n",
      "h    2\n",
      "1    2\n",
      "d    1\n",
      "B    1\n",
      "s    1\n",
      "S    1\n",
      "v    1\n",
      "x    1\n",
      "M    1\n",
      "dtype: int64\n"
     ]
    }
   ],
   "source": [
    "item_frequencies = movie1.sum().sort_values(ascending=False)\n",
    "print(\"Item Frequencies:\\n\", item_frequencies)"
   ]
  },
  {
   "cell_type": "code",
   "execution_count": 43,
   "id": "7834b140-eef5-4a33-b98e-f2273de1615d",
   "metadata": {},
   "outputs": [
    {
     "data": {
      "image/png": "[encoded data removed]",
      "text/plain": [
       "<Figure size 1200x600 with 1 Axes>"
      ]
     },
     "metadata": {},
     "output_type": "display_data"
    }
   ],
   "source": [
    "plt.figure(figsize=(12, 6))\n",
    "sns.barplot(x=item_frequencies.index, y=item_frequencies.values)\n",
    "plt.xticks(rotation=45)\n",
    "plt.xlabel('Items')\n",
    "plt.ylabel('Frequency')\n",
    "plt.title('Item Frequencies')\n",
    "plt.show()"
   ]
  },
  {
   "cell_type": "code",
   "execution_count": 44,
   "id": "6042c2ae-ec63-4a44-9f25-4be5e13190bf",
   "metadata": {},
   "outputs": [],
   "source": [
    "# Load your data (already done)\n",
    "df = pd.read_csv(\"C:/Assignments(DS)/my_movies.csv\")  # Update with your file path if needed\n"
   ]
  },
  {
   "cell_type": "code",
   "execution_count": 45,
   "id": "56cc078f-13dc-4d87-97a1-757ea7fef1f2",
   "metadata": {},
   "outputs": [
    {
     "name": "stderr",
     "output_type": "stream",
     "text": [
      "C:\\Users\\om\\anaconda3\\Lib\\site-packages\\mlxtend\\frequent_patterns\\fpcommon.py:109: DeprecationWarning: DataFrames with non-bool types result in worse computationalperformance and their support might be discontinued in the future.Please use a DataFrame with bool type\n",
      "  warnings.warn(\n"
     ]
    }
   ],
   "source": [
    "# Apply the Apriori algorithm\n",
    "frequent_itemsets = apriori(df, min_support=0.05, use_colnames=True)\n"
   ]
  },
  {
   "cell_type": "code",
   "execution_count": 46,
   "id": "d5620f9e-dbb1-4d7f-8ace-0f6016b71563",
   "metadata": {},
   "outputs": [
    {
     "name": "stdout",
     "output_type": "stream",
     "text": [
      "    support                                           itemsets\n",
      "0       0.6                                      (Sixth Sense)\n",
      "1       0.7                                        (Gladiator)\n",
      "2       0.2                                            (LOTR1)\n",
      "3       0.2                                    (Harry Potter1)\n",
      "4       0.6                                          (Patriot)\n",
      "5       0.2                                            (LOTR2)\n",
      "6       0.1                                    (Harry Potter2)\n",
      "7       0.1                                             (LOTR)\n",
      "8       0.1                                       (Braveheart)\n",
      "9       0.2                                       (Green Mile)\n",
      "10      0.5                           (Sixth Sense, Gladiator)\n",
      "11      0.1                               (LOTR1, Sixth Sense)\n",
      "12      0.1                       (Harry Potter1, Sixth Sense)\n",
      "13      0.4                             (Patriot, Sixth Sense)\n",
      "14      0.1                               (Sixth Sense, LOTR2)\n",
      "15      0.1                                (Sixth Sense, LOTR)\n",
      "16      0.2                          (Green Mile, Sixth Sense)\n",
      "17      0.6                               (Patriot, Gladiator)\n",
      "18      0.1                                  (Gladiator, LOTR)\n",
      "19      0.1                            (Braveheart, Gladiator)\n",
      "20      0.1                            (Green Mile, Gladiator)\n",
      "21      0.1                             (Harry Potter1, LOTR1)\n",
      "22      0.2                                     (LOTR1, LOTR2)\n",
      "23      0.1                                (Green Mile, LOTR1)\n",
      "24      0.1                             (Harry Potter1, LOTR2)\n",
      "25      0.1                     (Harry Potter1, Harry Potter2)\n",
      "26      0.1                        (Harry Potter1, Green Mile)\n",
      "27      0.1                              (Braveheart, Patriot)\n",
      "28      0.1                                (Green Mile, LOTR2)\n",
      "29      0.1                                 (Green Mile, LOTR)\n",
      "30      0.4                  (Patriot, Sixth Sense, Gladiator)\n",
      "31      0.1                     (Sixth Sense, Gladiator, LOTR)\n",
      "32      0.1               (Green Mile, Sixth Sense, Gladiator)\n",
      "33      0.1                (Harry Potter1, LOTR1, Sixth Sense)\n",
      "34      0.1                        (LOTR1, Sixth Sense, LOTR2)\n",
      "35      0.1                   (Green Mile, Sixth Sense, LOTR1)\n",
      "36      0.1                (Harry Potter1, Sixth Sense, LOTR2)\n",
      "37      0.1           (Harry Potter1, Green Mile, Sixth Sense)\n",
      "38      0.1                   (Green Mile, Sixth Sense, LOTR2)\n",
      "39      0.1                    (Green Mile, Sixth Sense, LOTR)\n",
      "40      0.1                   (Braveheart, Patriot, Gladiator)\n",
      "41      0.1                      (Green Mile, Gladiator, LOTR)\n",
      "42      0.1                      (Harry Potter1, LOTR1, LOTR2)\n",
      "43      0.1                 (Harry Potter1, Green Mile, LOTR1)\n",
      "44      0.1                         (Green Mile, LOTR1, LOTR2)\n",
      "45      0.1                 (Harry Potter1, Green Mile, LOTR2)\n",
      "46      0.1         (Green Mile, Sixth Sense, Gladiator, LOTR)\n",
      "47      0.1         (Harry Potter1, LOTR1, Sixth Sense, LOTR2)\n",
      "48      0.1    (Harry Potter1, Green Mile, Sixth Sense, LOTR1)\n",
      "49      0.1            (Green Mile, Sixth Sense, LOTR1, LOTR2)\n",
      "50      0.1    (Harry Potter1, Green Mile, Sixth Sense, LOTR2)\n",
      "51      0.1          (Harry Potter1, Green Mile, LOTR1, LOTR2)\n",
      "52      0.1  (Sixth Sense, LOTR1, LOTR2, Harry Potter1, Gre...\n"
     ]
    }
   ],
   "source": [
    "# View the frequent itemsets\n",
    "print(frequent_itemsets)\n"
   ]
  },
  {
   "cell_type": "code",
   "execution_count": 47,
   "id": "b4654741-4bd9-42de-9799-471a13321ea3",
   "metadata": {},
   "outputs": [
    {
     "name": "stdout",
     "output_type": "stream",
     "text": [
      "         antecedents                                      consequents  \\\n",
      "0      (Sixth Sense)                                      (Gladiator)   \n",
      "1        (Gladiator)                                    (Sixth Sense)   \n",
      "2          (Patriot)                                    (Sixth Sense)   \n",
      "3      (Sixth Sense)                                        (Patriot)   \n",
      "4      (Sixth Sense)                                           (LOTR)   \n",
      "..               ...                                              ...   \n",
      "233    (Sixth Sense)        (Harry Potter1, Green Mile, LOTR1, LOTR2)   \n",
      "234          (LOTR1)  (Harry Potter1, Green Mile, Sixth Sense, LOTR2)   \n",
      "235          (LOTR2)  (Harry Potter1, LOTR1, Sixth Sense, Green Mile)   \n",
      "236  (Harry Potter1)          (Green Mile, LOTR1, Sixth Sense, LOTR2)   \n",
      "237     (Green Mile)       (Harry Potter1, LOTR1, Sixth Sense, LOTR2)   \n",
      "\n",
      "     support  confidence  \n",
      "0        0.5    0.833333  \n",
      "1        0.5    0.714286  \n",
      "2        0.4    0.666667  \n",
      "3        0.4    0.666667  \n",
      "4        0.1    0.166667  \n",
      "..       ...         ...  \n",
      "233      0.1    0.166667  \n",
      "234      0.1    0.500000  \n",
      "235      0.1    0.500000  \n",
      "236      0.1    0.500000  \n",
      "237      0.1    0.500000  \n",
      "\n",
      "[238 rows x 4 columns]\n"
     ]
    }
   ],
   "source": [
    "#step 3: Generate the association rules\n",
    "rules = association_rules(frequent_itemsets, metric=\"lift\", min_threshold=1)\n",
    "# print(rules)\n",
    "print(rules[['antecedents','consequents','support','confidence']])"
   ]
  },
  {
   "cell_type": "markdown",
   "id": "c597aace-e447-43b5-89dd-a5f1c646444e",
   "metadata": {},
   "source": [
    "\n",
    "Antecedents:\n",
    "    Antecedents refer to the item(s) that appear on the left-hand side of an \n",
    "    association rule, representing the \"if\" part of the rule.\n",
    "    \n",
    "Consequent:\n",
    "    Consequent refers to the item(s) that appear on the right-hand side of an \n",
    "    association rule.\n",
    "    \n",
    "Support:\n",
    "    Support measures how frequently an itemset appears in the dataset.\n",
    "    Support(X)=Transactions containing X / Total number of transactions\n",
    "    \n",
    "Confidence:\n",
    "    Confidence measures the likelihood of seeing the consequent given the antecedent.\n",
    "    Confidence(X→Y)=Support(X and Y)/Support(X)\n"
   ]
  },
  {
   "cell_type": "markdown",
   "id": "68c3c9a1-e0bf-40e4-9e37-32ec1a00e4b7",
   "metadata": {},
   "source": [
    "Benefits :-\n",
    "\n",
    "Personalized Recommendations: Customers receive tailored movie suggestions that match their preferences, enhancing their overall viewing experience.\n",
    "\n",
    "Increased Satisfaction: With more relevant content, customers are likely to be more satisfied, leading to greater engagement and loyalty.\n",
    "    \n",
    "Time-Saving: By showing movies that align with their tastes, customers spend less time searching for something"
   ]
  },
  {
   "cell_type": "code",
   "execution_count": null,
   "id": "a577c0d7-4212-42b1-a9ea-193505773e84",
   "metadata": {},
   "outputs": [],
   "source": []
  }
 ],
 "metadata": {
  "kernelspec": {
   "display_name": "Python 3 (ipykernel)",
   "language": "python",
   "name": "python3"
  },
  "language_info": {
   "codemirror_mode": {
    "name": "ipython",
    "version": 3
   },
   "file_extension": ".py",
   "mimetype": "text/x-python",
   "name": "python",
   "nbconvert_exporter": "python",
   "pygments_lexer": "ipython3",
   "version": "3.11.7"
  }
 },
 "nbformat": 4,
 "nbformat_minor": 5
}
